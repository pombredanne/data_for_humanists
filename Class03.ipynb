{
 "metadata": {
  "name": ""
 },
 "nbformat": 3,
 "nbformat_minor": 0,
 "worksheets": [
  {
   "cells": [
    {
     "cell_type": "heading",
     "level": 1,
     "metadata": {},
     "source": [
      "Data, the New Best Friend of the Humanist"
     ]
    },
    {
     "cell_type": "markdown",
     "metadata": {},
     "source": [
      "<div align=\"center\">\n",
      "<img src=\"files/images/function_all_the_things.jpg\" width=\"350\">\n",
      "<br>\n",
      "*$f(x)$*\n",
      "</div>"
     ]
    },
    {
     "cell_type": "heading",
     "level": 2,
     "metadata": {},
     "source": [
      "Functions"
     ]
    },
    {
     "cell_type": "markdown",
     "metadata": {},
     "source": [
      "You will eventually find yourself writing the same series of statements over and over (or cutting and pasting in your editor). Surely there is a cleaner way to do this? We want a way to group together sequence of statements that we frequently reuse.\n",
      "\n",
      "In Python, we do this with a **function**. Here\u2019s one now:"
     ]
    },
    {
     "cell_type": "code",
     "collapsed": false,
     "input": [
      "def my_function(a_parameter):\n",
      "        b = a_parameter * 2\n",
      "        print(b)"
     ],
     "language": "python",
     "metadata": {},
     "outputs": [],
     "prompt_number": 1
    },
    {
     "cell_type": "markdown",
     "metadata": {},
     "source": [
      "Once you've defined a function, you can **call it** or invoke it from the Python interpreter or from IPython in exactly the same way you'd call a built-in function like `print`.\n",
      "\n",
      "So let\u2019s use our function:"
     ]
    },
    {
     "cell_type": "code",
     "collapsed": false,
     "input": [
      "my_function(2)"
     ],
     "language": "python",
     "metadata": {},
     "outputs": [
      {
       "output_type": "stream",
       "stream": "stdout",
       "text": [
        "4\n"
       ]
      }
     ],
     "prompt_number": 4
    },
    {
     "cell_type": "code",
     "collapsed": false,
     "input": [
      "my_function(7)"
     ],
     "language": "python",
     "metadata": {},
     "outputs": [
      {
       "output_type": "stream",
       "stream": "stdout",
       "text": [
        "14\n"
       ]
      }
     ],
     "prompt_number": 5
    },
    {
     "cell_type": "markdown",
     "metadata": {},
     "source": [
      "When we call `my_function`, the Python interpreter executes the statements that make up the function, in order.\n",
      "\n",
      "Functions make code easy to reuse, and easy to read. More importantly they facilitate *abstraction*.\n",
      "The general format for defining a function is:\n",
      "\n",
      "```python```\n",
      "def function_name(p1,p2,p3,p4, ... ):\n",
      "        statement 1\n",
      "        statement 2\n",
      "        ...\n",
      "        statement m\n",
      "```\n",
      "\n",
      "- `function_name` is... the name of the function, duh!\n",
      "- `p1`, `p2`, etc. are called the **parameters**, you can have as many as you like.\n",
      "\n",
      "You tell Python which statements make up the body of the function by using **indentation** (our magic tabs!)."
     ]
    },
    {
     "cell_type": "markdown",
     "metadata": {},
     "source": [
      "Furthermore, you can call a function inside a function."
     ]
    },
    {
     "cell_type": "code",
     "collapsed": false,
     "input": [
      "def my_2nd_function(param):\n",
      "    my_function(param)\n",
      "    my_function(param)\n",
      "    \n",
      "my_2nd_function(5)"
     ],
     "language": "python",
     "metadata": {},
     "outputs": [
      {
       "output_type": "stream",
       "stream": "stdout",
       "text": [
        "10\n",
        "10\n"
       ]
      }
     ],
     "prompt_number": 8
    },
    {
     "cell_type": "markdown",
     "metadata": {},
     "source": [
      "Probably, the most useful thing about functions is that they can **return values**. To do so, we just need to add one or several `return` statements, but every time a function reaches a `return` statement, **it returns whatever expression is accompanying and quits que function**, leaving the rest of the statements without executing."
     ]
    },
    {
     "cell_type": "code",
     "collapsed": false,
     "input": [
      "def another_function(a):\n",
      "    b = a + 5\n",
      "    return b\n",
      "    c = b + 5\n",
      "    return c"
     ],
     "language": "python",
     "metadata": {},
     "outputs": [],
     "prompt_number": 10
    },
    {
     "cell_type": "code",
     "collapsed": false,
     "input": [
      "another_function(0)"
     ],
     "language": "python",
     "metadata": {},
     "outputs": [
      {
       "metadata": {},
       "output_type": "pyout",
       "prompt_number": 11,
       "text": [
        "5"
       ]
      }
     ],
     "prompt_number": 11
    },
    {
     "cell_type": "markdown",
     "metadata": {},
     "source": [
      "In a function definition, the keyword in the header is `def`, which is followed by the name of the function (following snake_case naming) and a list of **parameters** enclosed in parentheses. These parameters become variables inside the function, and exist only there. Whatever you define inside a function, is local to that function and therefore not accesible from the outside. Thats what we call **scope**."
     ]
    },
    {
     "cell_type": "code",
     "collapsed": false,
     "input": [
      "variable = 20\n",
      "def func1(a):\n",
      "    value = a + 10\n",
      "\n",
      "func1(10)\n",
      "print(value)"
     ],
     "language": "python",
     "metadata": {},
     "outputs": [
      {
       "ename": "NameError",
       "evalue": "name 'value' is not defined",
       "output_type": "pyerr",
       "traceback": [
        "\u001b[1;31m---------------------------------------------------------------------------\u001b[0m\n\u001b[1;31mNameError\u001b[0m                                 Traceback (most recent call last)",
        "\u001b[1;32m<ipython-input-13-4527bd0c7321>\u001b[0m in \u001b[0;36m<module>\u001b[1;34m()\u001b[0m\n\u001b[0;32m      4\u001b[0m \u001b[1;33m\u001b[0m\u001b[0m\n\u001b[0;32m      5\u001b[0m \u001b[0mfunc1\u001b[0m\u001b[1;33m(\u001b[0m\u001b[1;36m10\u001b[0m\u001b[1;33m)\u001b[0m\u001b[1;33m\u001b[0m\u001b[0m\n\u001b[1;32m----> 6\u001b[1;33m \u001b[0mprint\u001b[0m\u001b[1;33m(\u001b[0m\u001b[0mvalue\u001b[0m\u001b[1;33m)\u001b[0m\u001b[1;33m\u001b[0m\u001b[0m\n\u001b[0m",
        "\u001b[1;31mNameError\u001b[0m: name 'value' is not defined"
       ]
      }
     ],
     "prompt_number": 13
    },
    {
     "cell_type": "markdown",
     "metadata": {},
     "source": [
      "Instead, you want to use the `return` statement and compound new expressions. This is called **composition**, no surprise here. So you can even have functions that are called using another function invokation as a paremeter, and so on..."
     ]
    },
    {
     "cell_type": "code",
     "collapsed": false,
     "input": [
      "def mind_blowing(param):\n",
      "    return \"Mind, \" + param\n",
      "\n",
      "mind_blowing(mind_blowing(mind_blowing(mind_blowing(mind_blowing(\"blowing!\")))))"
     ],
     "language": "python",
     "metadata": {},
     "outputs": [
      {
       "metadata": {},
       "output_type": "pyout",
       "prompt_number": 16,
       "text": [
        "'Mind, Mind, Mind, Mind, Mind, blowing!'"
       ]
      }
     ],
     "prompt_number": 16
    },
    {
     "cell_type": "markdown",
     "metadata": {},
     "source": [
      "<div align=\"center\">\n",
      "<img src=\"files/images/mind_blowing.gif\" width=\"350\">\n",
      "<br>\n",
      "*Careful! It's not that easy!*\n",
      "</div>"
     ]
    },
    {
     "cell_type": "markdown",
     "metadata": {},
     "source": [
      "The parameter list may be empty, or it may contain any number of parameters. In either case, the parentheses are required.\n",
      "\n",
      "Paremeters can be optional, so they can have default values, in which case they must put in the end of the list of parameters."
     ]
    },
    {
     "cell_type": "code",
     "collapsed": false,
     "input": [
      "def func_defaults(optional=5):\n",
      "    return optional + 10"
     ],
     "language": "python",
     "metadata": {},
     "outputs": [],
     "prompt_number": 17
    },
    {
     "cell_type": "code",
     "collapsed": false,
     "input": [
      "func_defaults(10)"
     ],
     "language": "python",
     "metadata": {},
     "outputs": [
      {
       "metadata": {},
       "output_type": "pyout",
       "prompt_number": 23,
       "text": [
        "20"
       ]
      }
     ],
     "prompt_number": 23
    },
    {
     "cell_type": "code",
     "collapsed": false,
     "input": [
      "func_defaults()"
     ],
     "language": "python",
     "metadata": {},
     "outputs": [
      {
       "metadata": {},
       "output_type": "pyout",
       "prompt_number": 21,
       "text": [
        "15"
       ]
      }
     ],
     "prompt_number": 21
    },
    {
     "cell_type": "heading",
     "level": 2,
     "metadata": {},
     "source": [
      "Inputs"
     ]
    },
    {
     "cell_type": "markdown",
     "metadata": {},
     "source": [
      "There are two *built-in* functions in Python for getting keyboard input (we say built-in and we mean included in the Python standard library):"
     ]
    },
    {
     "cell_type": "code",
     "collapsed": false,
     "input": [
      "n = raw_input(\"Please enter your name: \")\n",
      "print n\n",
      "n = input(\"Enter a numerical expression: \")\n",
      "print n"
     ],
     "language": "python",
     "metadata": {},
     "outputs": []
    },
    {
     "cell_type": "markdown",
     "metadata": {},
     "source": [
      "Do you see any difference between the behaviour of `raw_input()` and `input()`?"
     ]
    },
    {
     "cell_type": "code",
     "collapsed": false,
     "input": [],
     "language": "python",
     "metadata": {},
     "outputs": []
    }
   ],
   "metadata": {}
  }
 ]
}