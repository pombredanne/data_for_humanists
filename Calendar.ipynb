{
 "metadata": {
  "name": "",
  "signature": "sha256:dcb96ddc88ec6cef7dece1e0f3e61da9e2c418331487fee28e7acad3c7296373"
 },
 "nbformat": 3,
 "nbformat_minor": 0,
 "worksheets": [
  {
   "cells": [
    {
     "cell_type": "markdown",
     "metadata": {},
     "source": [
      "<div align=\"center\">\n",
      "<h1>Data, the New Best Friend of the Humanist<br/>*Calendar*</h1>\n",
      "</div>"
     ]
    },
    {
     "cell_type": "markdown",
     "metadata": {},
     "source": [
      "**Instructor**: Javier de la Rosa<br/>\n",
      "**E-mail**: [jdelaro@uwo.ca](mailto:jdelaro@uwo.ca)<br/>\n",
      "**Office**: UC 114<br/>\n",
      "**Office Hours**: Mondays 3:00pm-5:00pm<br/>\n",
      "**Meets**: Fall 2014, Mondays 12:30pm-2:30pm, Wednesdays 12:30pm-2:30pm<br/>\n",
      "**Room**: AB 148<br/>"
     ]
    },
    {
     "cell_type": "heading",
     "level": 3,
     "metadata": {},
     "source": [
      "Block 0: What is This Course About?"
     ]
    },
    {
     "cell_type": "markdown",
     "metadata": {},
     "source": [
      "* **September $4^{th}$**: [Class 01](../Class01.ipynb).\n",
      " * Presentation\n",
      " * Initial setup"
     ]
    },
    {
     "cell_type": "heading",
     "level": 3,
     "metadata": {},
     "source": [
      "Block 1: How to Think Like a Computer Scientist (Review)"
     ]
    },
    {
     "cell_type": "markdown",
     "metadata": {},
     "source": [
      "* **September $9^{th}$**: [Class 02](../Class02.ipynb).\n",
      " * Topics:\n",
      "   - Python syntax\n",
      "   - Variables and values\n",
      "   - Statements and expressions\n",
      "   - Creating and using functions\n",
      " * Readings:\n",
      "   - [Chapter 1 of *How to Think Like a Computer Scientist*](http://openbookproject.net/thinkcs/python/english2e/ch01.html)\n",
      "   - [Sections 2.1-2.9 of chapter 2 of *How to Think Like a Computer Scientist*](http://openbookproject.net/thinkcs/python/english2e/ch02.html)\n",
      "* **September $11^{th}$**: [Class 03](../Class03.ipynb).\n",
      " * Topics:\n",
      "   - Boolean logic\n",
      "   - Define functions\n",
      "   - Debug problems\n",
      "   - Get data from the keyboard\n",
      " * Readings:\n",
      "   - [Rest of chapter 2 of *How to Think Like a Computer Scientist*](http://openbookproject.net/thinkcs/python/english2e/ch02.html)\n",
      "   - [Chapter 3 of *How to Think Like a Computer Scientist*](http://openbookproject.net/thinkcs/python/english2e/ch03.html)\n",
      "   - [Chapter 4 (up to section 4.10) of *How to Think Like a Computer Scientist*](http://openbookproject.net/thinkcs/python/english2e/ch04.html)\n",
      "* **September $16^{th}$**: [Class 04](../Class04.ipynb).\n",
      " * Topics:\n",
      "   - Import and reuse code\n",
      "   - Format, comment and document your code\n",
      "   - Control flow execution\n",
      "   - Complex data types like lists and dictionaries\n",
      " * Readings:\n",
      "   - [Chapter 5 (up to section 5.8) of *How to Think Like a Computer Scientist*](http://openbookproject.net/thinkcs/python/english2e/ch05.html)\n",
      "   - [Sections 6.1-6.3, 6.5-6.6, and 6.9-6.13 of chapter 5 of *How to Think Like a Computer Scientist*](http://openbookproject.net/thinkcs/python/english2e/ch06.html)\n",
      "   - [Chapter 7 of *How to Think Like a Computer Scientist*](http://openbookproject.net/thinkcs/python/english2e/ch07.html)\n",
      "   - [Chapter 9 of *How to Think Like a Computer Scientist*](http://openbookproject.net/thinkcs/python/english2e/ch09.html)\n",
      "   - [Chapter 12 of *How to Think Like a Computer Scientist*](http://openbookproject.net/thinkcs/python/english2e/ch12.html)"
     ]
    },
    {
     "cell_type": "heading",
     "level": 3,
     "metadata": {},
     "source": [
      "Block 2: Dealing with Data"
     ]
    },
    {
     "cell_type": "markdown",
     "metadata": {},
     "source": [
      "* **September $18^{th}$**: [Class 05](../Class05.ipynb).\n",
      " * Topics:\n",
      "   - Getting data into Python\n",
      "   - Objects\n",
      "   - NumPy\n",
      "   - Arrays and Matrices\n",
      "   - SciPy\n",
      " * Readings:\n",
      "   - Section [1.3. NumPy: creating and manipulating numerical data, from Scipy lecture notes](http://scipy-lectures.github.io/intro/numpy/index.html).\n",
      "   - Section [1.5.6. Statistics and random numbers: scipy.stats, from Scipy lecture notes](http://scipy-lectures.github.io/intro/scipy.html#statistics-and-random-numbers-scipy-stats).\n",
      "\n",
      "* **September $23^{th}$**: [Class 06](../Class06.ipynb).\n",
      " * Topics:\n",
      "   - Pandas\n",
      "   - Cleaning data\n",
      "   - Summary statistics\n",
      "   - Indexing\n",
      "   - Merging, joining\n",
      "   - Group-by and cross-tabulation\n",
      " * Readings:\n",
      "   - ...\n",
      "\n",
      "* **September $25^{th}$**: Class 07.\n",
      " * Topics:\n",
      "   - Statistical modeling\n",
      "   - matplotlib\n",
      "   - Visualizations\n",
      "   - Charts   \n",
      " * Readings:\n",
      "   - \n",
      "\n",
      "* **September $30^{th}$**: Class 08.\n",
      " * Topics:\n",
      "   - Correlations\n",
      "   - Distributions\n",
      "\n",
      "* **October $2^{nd}$**: Class 09.\n",
      " * Topics:\n",
      "   - Machine Learning\n",
      "   - Supervised learning\n",
      "   - Unsupervised learning\n",
      "   \n",
      "* **October $7^{th}$**: Class 10.\n",
      "  * Work on [Assignment 1](../Assignment1.ipynb)."
     ]
    },
    {
     "cell_type": "heading",
     "level": 3,
     "metadata": {},
     "source": [
      "Block 3: Text Analysis"
     ]
    },
    {
     "cell_type": "markdown",
     "metadata": {},
     "source": [
      "* **October $9^{th}$**: [Class 11](../Class11.ipynb).\n",
      "  * Topics:\n",
      "   - NLTK\n",
      "   - Tokenization\n",
      "   - Concordance\n",
      "   - Word and phrase frequencies\n",
      "   - Dispersion plots\n",
      "   - TextBlob\n",
      "  * Deadlines:\n",
      "   - Assignment 1. *Note*: Re-submissions are allowed until this day.\n",
      "* **October $14^{th}$**: [Class 12](../Class12.ipynb).\n",
      "  * Topcics:\n",
      "   - Sources of data\n",
      "   - Corpora\n",
      "   - Co-Occurrence and similarity\n",
      "   - Word inflection and lemmatization\n",
      "   - pattern\n",
      "* **October $16^{th}$**: Class 13.\n",
      "  * Topcis:\n",
      "   - Regular expressions\n",
      "   - Parsing\n",
      "   - n-grams\n",
      "   - Part-of-speech Tagging\n",
      "* **October $21^{st}$**: Class 15.\n",
      "  * Topics\n",
      "   - Information extraction\n",
      "   - Trees\n",
      "   - Named Entity Recognition \n",
      "* **October $23^{rd}$**: Class 16.\n",
      "  * Topics:\n",
      "   - Sentiment Analysis\n",
      "   - Classifiers\n",
      "   - Generative Writing\n",
      "* **October $28^{th}$**: Class 17.\n",
      "  * Work on Assignment 2.\n",
      "* **October $30^{th}$**: *No class. Fall Study Break.*"
     ]
    },
    {
     "cell_type": "heading",
     "level": 3,
     "metadata": {},
     "source": [
      "Block 4: Network Science"
     ]
    },
    {
     "cell_type": "markdown",
     "metadata": {},
     "source": [
      "* **November $4^{th}$**: [Class 17](../Class17.ipynb).\n",
      "  * Topics:\n",
      "   - Graph Theory\n",
      "   - Vertices and relationships\n",
      "   - Networks\n",
      "   - Network Analysis\n",
      "   - NetworkX\n",
      "  * Deadlines:\n",
      "   - Assignment 2. *Note*: Re-submissions are allowed until this day.\n",
      "* **November $6^{th}$**: [Class 18](../Class18.ipynb). \n",
      "  * Topics:\n",
      "   - Centrality Measures\n",
      "   - Hierarchy\n",
      "   - Assortativity/Degree Correlations\n",
      "   - Modularity and Community Structure\n",
      "   - Nestedness\n",
      "* **November $11^{th}$**: Class 19.\n",
      "  * Topics:\n",
      "   - Random vs Scale Free\n",
      "   - Small Worlds\n",
      "   - Network Dynamics\n",
      "   - Social Network Analysis\n",
      "* **November $13^{th}$**: Class 20.\n",
      "  * Topics:\n",
      "   - Multi-partite networks\n",
      "   - Meta-netoworks\n",
      "   - The Property Graph\n",
      "  * Readings:\n",
      "   - ...\n",
      "* **November $18^{th}$**: Class 21.\n",
      "  * Topics:\n",
      "   - Network Content Analysis\n",
      "   - Plot Analysis\n",
      "  * Deadlines:\n",
      "   - Final Project proposal.\n",
      "* **November $20^{th}$**: Class 22.\n",
      "  * Work on Assignment 3."
     ]
    },
    {
     "cell_type": "heading",
     "level": 3,
     "metadata": {},
     "source": [
      "Block 5: Final Projects"
     ]
    },
    {
     "cell_type": "markdown",
     "metadata": {},
     "source": [
      "* **November $25^{th}$**: Class 23.\n",
      "  * Work on Final Projects.\n",
      "  * Deadlines:\n",
      "   - Assignment 3. *Note*: Re-submissions are allowed until this day.\n",
      "* **November $27^{th}$**: Class 24.\n",
      "  * Final Project presentations\n",
      "* **December $2^{nd}$**: Class 25. **Last day fo class**.\n",
      "  * Final Project presentations"
     ]
    },
    {
     "cell_type": "heading",
     "level": 3,
     "metadata": {},
     "source": [
      "Classes End"
     ]
    },
    {
     "cell_type": "markdown",
     "metadata": {},
     "source": [
      "* **December $3^{rd}$**:\n",
      "  * **All** asignments and **final project** must be handed in by this date.\n",
      "  * It is not allow to re-submit graded assignments.\n",
      "  * Deadlines:\n",
      "   - Assignment 1.\n",
      "   - Assignment 2.\n",
      "   - Assignment 3.\n",
      "   - Final Project."
     ]
    },
    {
     "cell_type": "heading",
     "level": 2,
     "metadata": {},
     "source": [
      "Google Calendar"
     ]
    },
    {
     "cell_type": "code",
     "collapsed": false,
     "input": [
      "from IPython.display import IFrame\n",
      "IFrame(\"https://www.google.com/calendar/embed?showTabs=0&amp;showCalendars=0&amp;height=600&amp;wkst=1&amp;bgcolor=%23FFFFFF&amp;src=o1u15v6vjq2slk9mkf5bs0qesg%40group.calendar.google.com&amp;color=%23182C57&amp;ctz=America%2FToronto\", width=800, height=600)"
     ],
     "language": "python",
     "metadata": {},
     "outputs": [
      {
       "html": [
        "\n",
        "        <iframe\n",
        "            width=\"800\"\n",
        "            height=600\"\n",
        "            src=\"https://www.google.com/calendar/embed?showTabs=0&amp;showCalendars=0&amp;height=600&amp;wkst=1&amp;bgcolor=%23FFFFFF&amp;src=o1u15v6vjq2slk9mkf5bs0qesg%40group.calendar.google.com&amp;color=%23182C57&amp;ctz=America%2FToronto\"\n",
        "            frameborder=\"0\"\n",
        "            allowfullscreen\n",
        "        ></iframe>\n",
        "        "
       ],
       "metadata": {},
       "output_type": "pyout",
       "prompt_number": 1,
       "text": [
        "<IPython.lib.display.IFrame at 0x7f9295ce2290>"
       ]
      }
     ],
     "prompt_number": 1
    },
    {
     "cell_type": "code",
     "collapsed": false,
     "input": [],
     "language": "python",
     "metadata": {},
     "outputs": []
    }
   ],
   "metadata": {}
  }
 ]
}