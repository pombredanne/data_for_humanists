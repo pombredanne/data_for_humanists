{
 "metadata": {
  "name": ""
 },
 "nbformat": 3,
 "nbformat_minor": 0,
 "worksheets": [
  {
   "cells": [
    {
     "cell_type": "heading",
     "level": 1,
     "metadata": {},
     "source": [
      "Data, the New Best Friend of the Humanist"
     ]
    },
    {
     "cell_type": "markdown",
     "metadata": {},
     "source": [
      "In this class you are expected to learn:\n",
      "\n",
      "1. Python syntax\n",
      "2. Variables and values\n",
      "3. Statements and expressions\n",
      "4. Creating and using functions"
     ]
    },
    {
     "cell_type": "heading",
     "level": 2,
     "metadata": {},
     "source": [
      "The Magic of the Tab"
     ]
    },
    {
     "cell_type": "markdown",
     "metadata": {},
     "source": [
      "<div align=\"center\">\n",
      "<img src=\"files/images/tab.jpg\" width=\"350\">\n",
      "</div>"
     ]
    },
    {
     "cell_type": "markdown",
     "metadata": {},
     "source": [
      "One of the first things you need to know, is that Python is a *indented* language. Unlike other languages like C or Java, Python uses visual indentation to group statements in a block. And the most usual length for that indentation is **4 spaces**.\n",
      "\n",
      "Let's see an example.\n",
      "\n",
      "```javascript\n",
      "if(!value){console.log(\"No value\");}else{console.log(value);}\n",
      "```\n",
      "\n",
      "The code below is Javascript, but Javascript does not impose rules on indendation. Instead, blocks of statements need to be enclosed by curly braces. `{` and `}`. Therefore, the same code can be written in many different ways.\n",
      "\n",
      "```javascript\n",
      "if(!value) {\n",
      "console.log(\"No value\");\n",
      "} else {\n",
      "console.log(value);\n",
      "}\n",
      "```\n",
      "\n",
      "Or even\n",
      "\n",
      "```javascript\n",
      "if (!value)\n",
      "{\n",
      "    console.log(\"No value\");\n",
      "}\n",
      "else\n",
      "{\n",
      "    console.log(value);\n",
      "}\n",
      "```\n",
      "\n",
      "However, the (almost) **only** way to write the same *logic* in Python is like this:\n",
      "\n",
      "```python\n",
      "if value is None:\n",
      "    print \"No value\"\n",
      "else:\n",
      "    print value\n",
      "```\n",
      "\n",
      "And that is one of the principles of Python\n",
      "\n",
      "    There should be one-- and preferably only one --obvious way to do it.\n",
      "\n",
      "At the beginning, the use of the indented syntax can be seen as a burden, but eventually you will learn to love and start to wonder why the rest of languages look so awful."
     ]
    },
    {
     "cell_type": "code",
     "collapsed": false,
     "input": [
      "import this"
     ],
     "language": "python",
     "metadata": {},
     "outputs": [
      {
       "output_type": "stream",
       "stream": "stdout",
       "text": [
        "The Zen of Python, by Tim Peters\n",
        "\n",
        "Beautiful is better than ugly.\n",
        "Explicit is better than implicit.\n",
        "Simple is better than complex.\n",
        "Complex is better than complicated.\n",
        "Flat is better than nested.\n",
        "Sparse is better than dense.\n",
        "Readability counts.\n",
        "Special cases aren't special enough to break the rules.\n",
        "Although practicality beats purity.\n",
        "Errors should never pass silently.\n",
        "Unless explicitly silenced.\n",
        "In the face of ambiguity, refuse the temptation to guess.\n",
        "There should be one-- and preferably only one --obvious way to do it.\n",
        "Although that way may not be obvious at first unless you're Dutch.\n",
        "Now is better than never.\n",
        "Although never is often better than *right* now.\n",
        "If the implementation is hard to explain, it's a bad idea.\n",
        "If the implementation is easy to explain, it may be a good idea.\n",
        "Namespaces are one honking great idea -- let's do more of those!\n"
       ]
      }
     ],
     "prompt_number": 2
    },
    {
     "cell_type": "heading",
     "level": 2,
     "metadata": {},
     "source": [
      "Source code"
     ]
    },
    {
     "cell_type": "markdown",
     "metadata": {},
     "source": [
      "A program is basically a set of instructions to produce an output from an input. We write programs in programming languages, like Python. And the code of those programs is usually called source code.\n",
      "\n",
      "Python code is usually stored in text files with the file ending `.py`:\n",
      "\n",
      "    myprogram.py\n",
      "\n",
      "Every line in a Python program file is assumed to be a Python statement, or part thereof.\n",
      "\n",
      "The only exception is comment lines, which start with the character `#` (optionally preceded by an arbitrary number of white-space characters, i.e., tabs or spaces). Comment lines are usually ignored by the Python interpreter.\n",
      "\n",
      "To run our Python program from the command line we use:\n",
      "\n",
      "    $ python myprogram.py\n",
      "\n",
      "Inside **IPython**, as we are right now, we use:\n",
      "\n",
      "    %run myprogram.py"
     ]
    },
    {
     "cell_type": "markdown",
     "metadata": {},
     "source": [
      "<div style=\"font-size: 1em; margin: 1em 0 1em 0; border: 1px solid #86989B; background-color: #f7f7f7; padding: 0;\">\n",
      "<p style=\"margin: 0; padding: 0.1em 0 0.1em 0.5em; color: white; border-bottom: 1px solid #86989B; font-weight: bold; background-color: #AFC1C4;\">\n",
      "Activity\n",
      "</p>\n",
      "<p style=\"margin: 0.5em 1em 0.5em 1em; padding: 0;\">\n",
      "Write a Python program that prints a message to the console.\n",
      "</p>\n",
      "</div>"
     ]
    },
    {
     "cell_type": "code",
     "collapsed": false,
     "input": [
      "# Write your code here and hit Shift+Enter"
     ],
     "language": "python",
     "metadata": {},
     "outputs": []
    },
    {
     "cell_type": "heading",
     "level": 2,
     "metadata": {},
     "source": [
      "Values"
     ]
    },
    {
     "cell_type": "markdown",
     "metadata": {},
     "source": [
      "Values are things that a program manipulates. There are different types of values:\n",
      "\n",
      "  - Strings: `\"abcdef\"`\n",
      "  - Integers: `7`, `42`, `97`\n",
      "  - Floating-point numbers: `3.792`, `0.00005`, `1.6e+9`\n",
      "\n",
      "To a computer, the integer 1 is not necessarily the same thing as the floating point number 1.0... because they have different types. Many of the errors you will make in programming result from mixing types inappropriately.\n",
      "Some languages (e.g., C, Fortran, Java) are very militant about types. You have to be totally explicit about them.\n",
      "Python is a little more relaxed. You can be explicit, but you don\u2019t have to be. Python will guess if you don\u2019t tell it. And you can ask Python to tell you its guess for the type of a value.\n",
      "\n",
      "```python\n",
      ">>> type(12)\n",
      "<type 'int'>\n",
      ">>> type('Witty remark')\n",
      "<type 'str'>\n",
      ">>> type(3.75)\n",
      "<type 'float'>\n",
      "```\n",
      "\n",
      "Try this in the next *cells*"
     ]
    },
    {
     "cell_type": "code",
     "collapsed": false,
     "input": [
      "type(12)"
     ],
     "language": "python",
     "metadata": {},
     "outputs": []
    },
    {
     "cell_type": "code",
     "collapsed": false,
     "input": [
      "type('Witty remark')"
     ],
     "language": "python",
     "metadata": {},
     "outputs": []
    },
    {
     "cell_type": "code",
     "collapsed": false,
     "input": [
      "type(3.75)"
     ],
     "language": "python",
     "metadata": {},
     "outputs": []
    },
    {
     "cell_type": "heading",
     "level": 2,
     "metadata": {},
     "source": [
      "Variables"
     ]
    },
    {
     "cell_type": "code",
     "collapsed": false,
     "input": [],
     "language": "python",
     "metadata": {},
     "outputs": []
    }
   ],
   "metadata": {}
  }
 ]
}