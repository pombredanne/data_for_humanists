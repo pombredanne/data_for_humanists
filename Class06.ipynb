{
 "metadata": {
  "name": "",
  "signature": "sha256:839857498f0b0699a88451c26babf46973db3a4804a2cc2cba8ff51eda45043f"
 },
 "nbformat": 3,
 "nbformat_minor": 0,
 "worksheets": [
  {
   "cells": [
    {
     "cell_type": "code",
     "collapsed": false,
     "input": [],
     "language": "python",
     "metadata": {},
     "outputs": []
    }
   ],
   "metadata": {}
  }
 ]
}