{
 "metadata": {
  "name": "",
  "signature": "sha256:4b55ee120abe74e146d6c6d0ebaa5697e2aef14709468fb3a39d48b938976ff9"
 },
 "nbformat": 3,
 "nbformat_minor": 0,
 "worksheets": [
  {
   "cells": [
    {
     "cell_type": "heading",
     "level": 1,
     "metadata": {},
     "source": [
      "Data, the Humanist's New Best Friend"
     ]
    },
    {
     "cell_type": "markdown",
     "metadata": {},
     "source": [
      "In this class you are expected to learn:\n",
      "* NLTK\n",
      "* Tokenization\n",
      "* Concordance\n",
      "* Word and phrase frequencies\n",
      "* Dispersion plots\n",
      "* TextBlob"
     ]
    },
    {
     "cell_type": "markdown",
     "metadata": {},
     "source": [
      "<div align=\"center\">\n",
      "<img src=\"files/images/nlp.jpg\" width=\"350\">\n",
      "*It really is awesome!*\n",
      "</div>"
     ]
    },
    {
     "cell_type": "heading",
     "level": 2,
     "metadata": {},
     "source": [
      "Natural Language Processing (NLP)"
     ]
    },
    {
     "cell_type": "markdown",
     "metadata": {},
     "source": [
      "Extracted from [Tooling up for Digital Humanities: The Text Deluge](http://toolingup.stanford.edu/?page_id=349) (highly recommended reading!):\n",
      "\n",
      "> According to [one estimate](http://www.economist.com/node/15579717?story_id=15579717), human beings created some 150 exabytes (billion gigabytes) of data in 2005 alone. This year, we will create approximately 1,200 exabytes. The Library of Congress [announced](http://www.guardian.co.uk/world/richard-adams-blog/2010/apr/14/twitter-library-of-congress) its decision archive Twitter, which includes the addition of some 50 million tweets per day. A search in Google Books for the phrase \u201cslave trade\u201d in July 2010, for example, returned the following: \u201cAbout 1,600,000 results (0.21 seconds).\u201d Scholars once accustomed to studying a handful of letters or a couple hundred diary entries are now faced with massive amounts of data that cannot possibly be analyzed in traditional ways.\n",
      ">\n",
      "> The trend towards an increasing deluge of information raises the question posed by Gregory Crane in 2006: \u201c**What do you do with a million books?**\u201d \u201cMy answer to that question\u201d wrote Tanya Clement and others in a 2008 article, \u201cis that **whatever you do, you don't read them, because you can\u2019t**.\u201d\n",
      "\n",
      "And that's the key for text analysis today: to not read, which is still kind of ironic. But then, if we can't read one million books, or blogs, or a trillion of tweets, of hundred thousand of margin notes, how are we supposed to analyze that? The answer is Natural Language Processing, or **NLP**.\n",
      "\n",
      "There is a bunch of things that NLP can do for us, I'll list some of them:\n",
      "\n",
      "- [Automatic summarization](https://en.wikipedia.org/wiki/Automatic_summarization).\n",
      "- [Coreference resolution](https://en.wikipedia.org/wiki/Coreference).\n",
      "- [Discourse analysis](https://en.wikipedia.org/wiki/Discourse_analysis).\n",
      "- [Machine translation](https://en.wikipedia.org/wiki/Machine_translation).\n",
      "- [Morphological segmentation](https://en.wikipedia.org/wiki/Morphology_).\n",
      "- [Named entity recognition](https://en.wikipedia.org/wiki/Named_entity_recognition).\n",
      "- [Natural language generation](https://en.wikipedia.org/wiki/Natural_language_generation).\n",
      "- [Natural language understanding](https://en.wikipedia.org/wiki/Natural_language_understanding).\n",
      "- [Optical character recognition](https://en.wikipedia.org/wiki/Optical_character_recognition).\n",
      "- [Part-of-speech tagging](https://en.wikipedia.org/wiki/Part).\n",
      "- [Parsing](https://en.wikipedia.org/wiki/Parsing).\n",
      "- [Question answering](https://en.wikipedia.org/wiki/Question_answering).\n",
      "- [Relationship extraction](https://en.wikipedia.org/wiki/Relationship_extraction).\n",
      "- [Sentence breaking](https://en.wikipedia.org/wiki/Sentence_breaking).\n",
      "- [sentence boundary disambiguation](https://en.wikipedia.org/wiki/Sentence_boundary_disambiguation).\n",
      "- [Sentiment analysis](https://en.wikipedia.org/wiki/Sentiment_analysis).\n",
      "- [Speech recognition](https://en.wikipedia.org/wiki/Speech_recognition).\n",
      "- [Speech segmentation](https://en.wikipedia.org/wiki/Speech_segmentation).\n",
      "- [Topic segmentation](https://en.wikipedia.org/wiki/Topic_segmentation).\n",
      "- [Word segmentation](https://en.wikipedia.org/wiki/Word_segmentation).\n",
      "- [Word sense disambiguation](https://en.wikipedia.org/wiki/Word_sense_disambiguation).\n",
      "- [Information retrieval](https://en.wikipedia.org/wiki/Information_retrieval).\n",
      "- [Information extraction](https://en.wikipedia.org/wiki/Information_extraction).\n",
      "- [Speech processing](https://en.wikipedia.org//wiki/Speech_processing).\n",
      "\n",
      "For most of them there is a package in Python, and most of the time that package is the [Natural Language Toolkit](http://www.nltk.org/), usually abbreviated as NLTK."
     ]
    },
    {
     "cell_type": "heading",
     "level": 2,
     "metadata": {},
     "source": [
      "NLTK"
     ]
    },
    {
     "cell_type": "markdown",
     "metadata": {},
     "source": [
      "The Natural Language Toolkit is a huge package tha covers almost every need you might have about text processing. It was designed with four primary goals in mind:\n",
      "- **Simplicity**: To provide an intuitive framework along with substantial building blocks, giving users a practical knowledge of NLP without getting bogged down in the tedious house-keeping usually associated with processing annotated language data.\n",
      "- **Consistency**: To provide a uniform framework with consistent interfaces and data structures, and easily-guessable method names.\n",
      "- **Extensibility**: To provide a structure into which new software modules can be easily accommodated, including alternative implementations and competing approaches to the same task.\n",
      "- **Modularity**: To provide components that can be used independently without needing to understand the rest of the toolkit.\n",
      "\n",
      "The list of features is overwhelming. Unfortunately, we'll see a fraction of those.\n",
      "<table border=\"1\" class=\"docutils\" id=\"tab-modules\">\n",
      "<colgroup>\n",
      "<col width=\"24%\">\n",
      "<col width=\"24%\">\n",
      "<col width=\"53%\">\n",
      "</colgroup>\n",
      "<thead valign=\"bottom\">\n",
      "<tr><th class=\"head\">Language processing task</th>\n",
      "<th class=\"head\">NLTK modules</th>\n",
      "<th class=\"head\">Functionality</th>\n",
      "</tr>\n",
      "</thead>\n",
      "<tbody valign=\"top\">\n",
      "<tr><td>Accessing corpora</td>\n",
      "<td>`nltk.corpus`</td>\n",
      "<td>standardized interfaces to corpora and lexicons</td>\n",
      "</tr>\n",
      "<tr><td>String processing</td>\n",
      "<td>`nltk.tokenize`, `nltk.stem`</td>\n",
      "<td>tokenizers, sentence tokenizers, stemmers</td>\n",
      "</tr>\n",
      "<tr><td>Collocation discovery</td>\n",
      "<td>`nltk.collocations`</td>\n",
      "<td>t-test, chi-squared, point-wise mutual information</td>\n",
      "</tr>\n",
      "<tr><td>Part-of-speech tagging</td>\n",
      "<td>`nltk.tag`</td>\n",
      "<td>n-gram, backoff, Brill, HMM, TnT</td>\n",
      "</tr>\n",
      "<tr><td>Classification</td>\n",
      "<td>`nltk.classify`, `nltk.cluster`</td>\n",
      "<td>decision tree, maximum entropy, naive Bayes, EM, k-means</td>\n",
      "</tr>\n",
      "<tr><td>Chunking</td>\n",
      "<td>`nltk.chunk`</td>\n",
      "<td>regular expression, n-gram, named-entity</td>\n",
      "</tr>\n",
      "<tr><td>Parsing</td>\n",
      "<td>`nltk.parse`</td>\n",
      "<td>chart, feature-based, unification, probabilistic, dependency</td>\n",
      "</tr>\n",
      "<tr><td>Semantic interpretation</td>\n",
      "<td>`nltk.sem`, `nltk.inference`</td>\n",
      "<td>lambda calculus, first-order logic, model checking</td>\n",
      "</tr>\n",
      "<tr><td>Evaluation metrics</td>\n",
      "<td>`nltk.metrics`</td>\n",
      "<td>precision, recall, agreement coefficients</td>\n",
      "</tr>\n",
      "<tr><td>Probability and estimation</td>\n",
      "<td>`nltk.probability`</td>\n",
      "<td>frequency distributions, smoothed probability distributions</td>\n",
      "</tr>\n",
      "<tr><td>Applications</td>\n",
      "<td>`nltk.app`, `nltk.chat`</td>\n",
      "<td>graphical concordancer, parsers, WordNet browser, chatbots</td>\n",
      "</tr>\n",
      "<tr><td>Linguistic fieldwork</td>\n",
      "<td>`nltk.toolbox`</td>\n",
      "<td>manipulate data in SIL Toolbox format</td>\n",
      "</tr>\n",
      "</tbody>\n",
      "\n",
      "\n",
      "</table>"
     ]
    },
    {
     "cell_type": "markdown",
     "metadata": {},
     "source": [
      "If this is the first time you use NLTK (and I'm pretty sure it is), you need to download some files that NLTK needs, like example books, corpora, information for the tagger, dictionaries, etc. NLTK brings its own downloader, all you have to do is importing the module and invoking `download()`. The downloader then will ask you what do you want to do, so you type `d` for downloading, and then `all` to download everything, everything! It may take some time, but you'll do this only once."
     ]
    },
    {
     "cell_type": "code",
     "collapsed": false,
     "input": [
      "import nltk \n",
      "nltk.download()"
     ],
     "language": "python",
     "metadata": {},
     "outputs": [
      {
       "output_type": "stream",
       "stream": "stdout",
       "text": [
        "NLTK Downloader\n",
        "---------------------------------------------------------------------------\n",
        "    d) Download   l) List    u) Update   c) Config   h) Help   q) Quit\n",
        "---------------------------------------------------------------------------\n"
       ]
      },
      {
       "name": "stdout",
       "output_type": "stream",
       "stream": "stdout",
       "text": [
        "Downloader> d\n"
       ]
      },
      {
       "output_type": "stream",
       "stream": "stdout",
       "text": [
        "\n",
        "Download which package (l=list; x=cancel)?\n"
       ]
      },
      {
       "name": "stdout",
       "output_type": "stream",
       "stream": "stdout",
       "text": [
        "  Identifier> l\n"
       ]
      },
      {
       "output_type": "stream",
       "stream": "stdout",
       "text": [
        "Packages:\n",
        "  [-] book_grammars....... Grammars from NLTK Book"
       ]
      },
      {
       "output_type": "stream",
       "stream": "stdout",
       "text": [
        "\n",
        "  [-] brown............... Brown Corpus\n",
        "  [ ] framenet_v15........ FrameNet 1.5"
       ]
      },
      {
       "output_type": "stream",
       "stream": "stdout",
       "text": [
        "\n",
        "  [-] maxent_ne_chunker... ACE Named Entity Chunker (Maximum entropy)"
       ]
      },
      {
       "output_type": "stream",
       "stream": "stdout",
       "text": [
        "\n",
        "  [-] maxent_treebank_pos_tagger Treebank Part of Speech Tagger (Maximum entropy)\n",
        "  [-] punkt............... Punkt Tokenizer Models"
       ]
      },
      {
       "output_type": "stream",
       "stream": "stdout",
       "text": [
        "\n",
        "  [-] sample_grammars..... Sample Grammars"
       ]
      },
      {
       "output_type": "stream",
       "stream": "stdout",
       "text": [
        "\n",
        "  [-] tagsets............. Help on Tagsets"
       ]
      },
      {
       "output_type": "stream",
       "stream": "stdout",
       "text": [
        "\n",
        "  [-] udhr2............... Universal Declaration of Human Rights Corpus\n",
        "                           (Unicode Version)"
       ]
      },
      {
       "output_type": "stream",
       "stream": "stdout",
       "text": [
        "\n",
        "  [ ] universal_tagset.... Mappings to the Universal Part-of-Speech Tagset"
       ]
      },
      {
       "output_type": "stream",
       "stream": "stdout",
       "text": [
        "\n",
        "\n"
       ]
      },
      {
       "output_type": "stream",
       "stream": "stdout",
       "text": [
        "Collections:\n",
        "  [-] all-corpora......... All the corpora\n",
        "  [-] all................. All packages\n",
        "  [-] book................ Everything used in the NLTK Book\n",
        "\n",
        "([*] marks installed packages; [-] marks out-of-date or corrupt packages)\n",
        "\n",
        "Download which package (l=list; x=cancel)?\n"
       ]
      },
      {
       "name": "stdout",
       "output_type": "stream",
       "stream": "stdout",
       "text": [
        "  Identifier> book_grammars all\n"
       ]
      },
      {
       "output_type": "stream",
       "stream": "stdout",
       "text": [
        "    Downloading package book_grammars to /home/me/nltk_data...\n",
        "      Unzipping grammars/book_grammars.zip."
       ]
      },
      {
       "output_type": "stream",
       "stream": "stdout",
       "text": [
        "\n",
        "    Downloading collection 'all'"
       ]
      },
      {
       "output_type": "stream",
       "stream": "stdout",
       "text": [
        "\n",
        "       | \n",
        "       | Downloading package abc to /home/me/nltk_data...\n",
        "       |   Package abc is already up-to-date!\n",
        "       | Downloading package alpino to /home/me/nltk_data...\n",
        "       |   Package alpino is already up-to-date!\n",
        "       | Downloading package biocreative_ppi to\n",
        "       |     /home/me/nltk_data...\n",
        "       |   Package biocreative_ppi is already up-to-date!\n",
        "       | Downloading package brown to /home/me/nltk_data...\n",
        "       |   Unzipping corpora/brown.zip."
       ]
      },
      {
       "output_type": "stream",
       "stream": "stdout",
       "text": [
        "\n",
        "       | Downloading package brown_tei to /home/me/nltk_data..."
       ]
      },
      {
       "output_type": "stream",
       "stream": "stdout",
       "text": [
        "\n",
        "       |   Package brown_tei is already up-to-date!\n",
        "       | Downloading package cess_cat to /home/me/nltk_data...\n",
        "       |   Package cess_cat is already up-to-date!\n",
        "       | Downloading package cess_esp to /home/me/nltk_data...\n",
        "       |   Package cess_esp is already up-to-date!\n",
        "       | Downloading package chat80 to /home/me/nltk_data...\n",
        "       |   Package chat80 is already up-to-date!\n",
        "       | Downloading package city_database to\n",
        "       |     /home/me/nltk_data...\n",
        "       |   Package city_database is already up-to-date!\n",
        "       | Downloading package cmudict to /home/me/nltk_data...\n",
        "       |   Package cmudict is already up-to-date!\n",
        "       | Downloading package comtrans to /home/me/nltk_data...\n",
        "       |   Package comtrans is already up-to-date!\n",
        "       | Downloading package conll2000 to /home/me/nltk_data...\n",
        "       |   Package conll2000 is already up-to-date!\n",
        "       | Downloading package conll2002 to /home/me/nltk_data...\n",
        "       |   Package conll2002 is already up-to-date!\n",
        "       | Downloading package conll2007 to /home/me/nltk_data...\n",
        "       |   Package conll2007 is already up-to-date!\n",
        "       | Downloading package dependency_treebank to\n",
        "       |     /home/me/nltk_data...\n",
        "       |   Package dependency_treebank is already up-to-date!\n",
        "       | Downloading package europarl_raw to /home/me/nltk_data...\n",
        "       |   Package europarl_raw is already up-to-date!\n",
        "       | Downloading package floresta to /home/me/nltk_data...\n",
        "       |   Package floresta is already up-to-date!\n",
        "       | Downloading package framenet_v15 to /home/me/nltk_data...\n",
        "       |   Unzipping corpora/framenet_v15.zip."
       ]
      },
      {
       "output_type": "stream",
       "stream": "stdout",
       "text": [
        "\n",
        "       | Downloading package gazetteers to /home/me/nltk_data..."
       ]
      },
      {
       "output_type": "stream",
       "stream": "stdout",
       "text": [
        "\n",
        "       |   Package gazetteers is already up-to-date!\n",
        "       | Downloading package genesis to /home/me/nltk_data...\n",
        "       |   Package genesis is already up-to-date!\n",
        "       | Downloading package gutenberg to /home/me/nltk_data...\n",
        "       |   Package gutenberg is already up-to-date!\n",
        "       | Downloading package ieer to /home/me/nltk_data...\n",
        "       |   Package ieer is already up-to-date!\n",
        "       | Downloading package inaugural to /home/me/nltk_data...\n",
        "       |   Package inaugural is already up-to-date!\n",
        "       | Downloading package indian to /home/me/nltk_data...\n",
        "       |   Package indian is already up-to-date!\n",
        "       | Downloading package jeita to /home/me/nltk_data...\n",
        "       |   Package jeita is already up-to-date!\n",
        "       | Downloading package kimmo to /home/me/nltk_data...\n",
        "       |   Package kimmo is already up-to-date!\n",
        "       | Downloading package knbc to /home/me/nltk_data...\n",
        "       |   Package knbc is already up-to-date!\n",
        "       | Downloading package langid to /home/me/nltk_data...\n",
        "       |   Package langid is already up-to-date!\n",
        "       | Downloading package lin_thesaurus to\n",
        "       |     /home/me/nltk_data...\n",
        "       |   Package lin_thesaurus is already up-to-date!\n",
        "       | Downloading package mac_morpho to /home/me/nltk_data...\n",
        "       |   Package mac_morpho is already up-to-date!\n",
        "       | Downloading package machado to /home/me/nltk_data...\n",
        "       |   Package machado is already up-to-date!\n",
        "       | Downloading package movie_reviews to\n",
        "       |     /home/me/nltk_data...\n",
        "       |   Package movie_reviews is already up-to-date!\n",
        "       | Downloading package names to /home/me/nltk_data...\n",
        "       |   Package names is already up-to-date!\n",
        "       | Downloading package nombank.1.0 to /home/me/nltk_data...\n",
        "       |   Package nombank.1.0 is already up-to-date!\n",
        "       | Downloading package nps_chat to /home/me/nltk_data...\n",
        "       |   Package nps_chat is already up-to-date!\n",
        "       | Downloading package paradigms to /home/me/nltk_data...\n",
        "       |   Package paradigms is already up-to-date!\n",
        "       | Downloading package pil to /home/me/nltk_data...\n",
        "       |   Package pil is already up-to-date!\n",
        "       | Downloading package pl196x to /home/me/nltk_data...\n",
        "       |   Package pl196x is already up-to-date!\n",
        "       | Downloading package ppattach to /home/me/nltk_data...\n",
        "       |   Package ppattach is already up-to-date!\n",
        "       | Downloading package problem_reports to\n",
        "       |     /home/me/nltk_data...\n",
        "       |   Package problem_reports is already up-to-date!\n",
        "       | Downloading package propbank to /home/me/nltk_data...\n",
        "       |   Package propbank is already up-to-date!\n",
        "       | Downloading package ptb to /home/me/nltk_data...\n",
        "       |   Package ptb is already up-to-date!\n",
        "       | Downloading package oanc_masc to /home/me/nltk_data...\n",
        "       |   Package oanc_masc is already up-to-date!\n",
        "       | Downloading package qc to /home/me/nltk_data...\n",
        "       |   Package qc is already up-to-date!\n",
        "       | Downloading package reuters to /home/me/nltk_data...\n",
        "       |   Package reuters is already up-to-date!\n",
        "       | Downloading package rte to /home/me/nltk_data...\n",
        "       |   Package rte is already up-to-date!\n",
        "       | Downloading package semcor to /home/me/nltk_data...\n",
        "       |   Package semcor is already up-to-date!\n",
        "       | Downloading package senseval to /home/me/nltk_data...\n",
        "       |   Package senseval is already up-to-date!\n",
        "       | Downloading package shakespeare to /home/me/nltk_data...\n",
        "       |   Package shakespeare is already up-to-date!\n",
        "       | Downloading package sinica_treebank to\n",
        "       |     /home/me/nltk_data...\n",
        "       |   Package sinica_treebank is already up-to-date!\n",
        "       | Downloading package smultron to /home/me/nltk_data...\n",
        "       |   Package smultron is already up-to-date!\n",
        "       | Downloading package state_union to /home/me/nltk_data...\n",
        "       |   Package state_union is already up-to-date!\n",
        "       | Downloading package stopwords to /home/me/nltk_data...\n",
        "       |   Package stopwords is already up-to-date!\n",
        "       | Downloading package swadesh to /home/me/nltk_data...\n",
        "       |   Package swadesh is already up-to-date!\n",
        "       | Downloading package switchboard to /home/me/nltk_data...\n",
        "       |   Package switchboard is already up-to-date!\n",
        "       | Downloading package timit to /home/me/nltk_data...\n",
        "       |   Package timit is already up-to-date!\n",
        "       | Downloading package toolbox to /home/me/nltk_data...\n",
        "       |   Package toolbox is already up-to-date!\n",
        "       | Downloading package treebank to /home/me/nltk_data...\n",
        "       |   Package treebank is already up-to-date!\n",
        "       | Downloading package udhr to /home/me/nltk_data...\n",
        "       |   Package udhr is already up-to-date!\n",
        "       | Downloading package udhr2 to /home/me/nltk_data...\n",
        "       |   Unzipping corpora/udhr2.zip."
       ]
      },
      {
       "output_type": "stream",
       "stream": "stdout",
       "text": [
        "\n",
        "       | Downloading package unicode_samples to\n",
        "       |     /home/me/nltk_data..."
       ]
      },
      {
       "output_type": "stream",
       "stream": "stdout",
       "text": [
        "\n",
        "       |   Package unicode_samples is already up-to-date!\n",
        "       | Downloading package verbnet to /home/me/nltk_data...\n",
        "       |   Package verbnet is already up-to-date!\n",
        "       | Downloading package webtext to /home/me/nltk_data...\n",
        "       |   Package webtext is already up-to-date!\n",
        "       | Downloading package wordnet to /home/me/nltk_data...\n",
        "       |   Package wordnet is already up-to-date!\n",
        "       | Downloading package wordnet_ic to /home/me/nltk_data...\n",
        "       |   Package wordnet_ic is already up-to-date!\n",
        "       | Downloading package words to /home/me/nltk_data...\n",
        "       |   Package words is already up-to-date!\n",
        "       | Downloading package ycoe to /home/me/nltk_data...\n",
        "       |   Package ycoe is already up-to-date!\n",
        "       | Downloading package rslp to /home/me/nltk_data...\n",
        "       |   Package rslp is already up-to-date!\n",
        "       | Downloading package hmm_treebank_pos_tagger to\n",
        "       |     /home/me/nltk_data...\n",
        "       |   Package hmm_treebank_pos_tagger is already up-to-date!\n",
        "       | Downloading package maxent_treebank_pos_tagger to\n",
        "       |     /home/me/nltk_data...\n",
        "       |   Unzipping taggers/maxent_treebank_pos_tagger.zip."
       ]
      },
      {
       "output_type": "stream",
       "stream": "stdout",
       "text": [
        "\n",
        "       | Downloading package universal_tagset to\n",
        "       |     /home/me/nltk_data..."
       ]
      },
      {
       "output_type": "stream",
       "stream": "stdout",
       "text": [
        "\n",
        "       |   Unzipping taggers/universal_tagset.zip."
       ]
      },
      {
       "output_type": "stream",
       "stream": "stdout",
       "text": [
        "\n",
        "       | Downloading package maxent_ne_chunker to\n",
        "       |     /home/me/nltk_data..."
       ]
      },
      {
       "output_type": "stream",
       "stream": "stdout",
       "text": [
        "\n",
        "       |   Unzipping chunkers/maxent_ne_chunker.zip."
       ]
      },
      {
       "output_type": "stream",
       "stream": "stdout",
       "text": [
        "\n",
        "       | Downloading package punkt to /home/me/nltk_data..."
       ]
      },
      {
       "output_type": "stream",
       "stream": "stdout",
       "text": [
        "\n",
        "       |   Unzipping tokenizers/punkt.zip."
       ]
      },
      {
       "output_type": "stream",
       "stream": "stdout",
       "text": [
        "\n",
        "       | Downloading package book_grammars to\n",
        "       |     /home/me/nltk_data..."
       ]
      },
      {
       "output_type": "stream",
       "stream": "stdout",
       "text": [
        "\n",
        "       |   Package book_grammars is already up-to-date!\n",
        "       | Downloading package sample_grammars to\n",
        "       |     /home/me/nltk_data...\n",
        "       |   Unzipping grammars/sample_grammars.zip."
       ]
      },
      {
       "output_type": "stream",
       "stream": "stdout",
       "text": [
        "\n",
        "       | Downloading package spanish_grammars to\n",
        "       |     /home/me/nltk_data..."
       ]
      },
      {
       "output_type": "stream",
       "stream": "stdout",
       "text": [
        "\n",
        "       |   Package spanish_grammars is already up-to-date!\n",
        "       | Downloading package basque_grammars to\n",
        "       |     /home/me/nltk_data...\n",
        "       |   Package basque_grammars is already up-to-date!\n",
        "       | Downloading package large_grammars to\n",
        "       |     /home/me/nltk_data...\n",
        "       |   Package large_grammars is already up-to-date!\n",
        "       | Downloading package tagsets to /home/me/nltk_data...\n",
        "       | "
       ]
      },
      {
       "output_type": "stream",
       "stream": "stdout",
       "text": [
        "\n",
        "     Done downloading collection all\n",
        "\n",
        "---------------------------------------------------------------------------\n",
        "    d) Download   l) List    u) Update   c) Config   h) Help   q) Quit\n",
        "---------------------------------------------------------------------------\n"
       ]
      },
      {
       "name": "stdout",
       "output_type": "stream",
       "stream": "stdout",
       "text": [
        "Downloader> q\n"
       ]
      },
      {
       "metadata": {},
       "output_type": "pyout",
       "prompt_number": 5,
       "text": [
        "True"
       ]
      }
     ],
     "prompt_number": 5
    },
    {
     "cell_type": "markdown",
     "metadata": {},
     "source": [
      "After downloading everythin, we've gained acccess to a corpus of books to play with. One of them is *Moby Dick* by Herman Melville, under `nltk.book.text1`; other is *Sense and Sensibility* by Jane Austen, under `nltk.books.text2`."
     ]
    },
    {
     "cell_type": "code",
     "collapsed": false,
     "input": [
      "from nltk.book import text1 as moby_dick\n",
      "moby_dick"
     ],
     "language": "python",
     "metadata": {},
     "outputs": [
      {
       "metadata": {},
       "output_type": "pyout",
       "prompt_number": 6,
       "text": [
        "<Text: Moby Dick by Herman Melville 1851>"
       ]
      }
     ],
     "prompt_number": 6
    },
    {
     "cell_type": "code",
     "collapsed": false,
     "input": [
      "from nltk.book import text2 as sense_sensibility\n",
      "sense_sensibility"
     ],
     "language": "python",
     "metadata": {},
     "outputs": [
      {
       "metadata": {},
       "output_type": "pyout",
       "prompt_number": 3,
       "text": [
        "<Text: Sense and Sensibility by Jane Austen 1811>"
       ]
      }
     ],
     "prompt_number": 3
    },
    {
     "cell_type": "heading",
     "level": 3,
     "metadata": {},
     "source": [
      "Searching text"
     ]
    },
    {
     "cell_type": "markdown",
     "metadata": {},
     "source": [
      "These included books are actually instances of `Text`, which is a class defined by NLTK that behaves like a very rich collection of strings. However, regular operations like checking if a word is in a text, or slicing part of the text, is done the same way that in strings."
     ]
    },
    {
     "cell_type": "code",
     "collapsed": false,
     "input": [
      "type(sense_sensibility)"
     ],
     "language": "python",
     "metadata": {},
     "outputs": [
      {
       "metadata": {},
       "output_type": "pyout",
       "prompt_number": 15,
       "text": [
        "nltk.text.Text"
       ]
      }
     ],
     "prompt_number": 15
    },
    {
     "cell_type": "code",
     "collapsed": false,
     "input": [
      "\"love\" in sense_sensibility"
     ],
     "language": "python",
     "metadata": {},
     "outputs": [
      {
       "metadata": {},
       "output_type": "pyout",
       "prompt_number": 56,
       "text": [
        "True"
       ]
      }
     ],
     "prompt_number": 56
    },
    {
     "cell_type": "code",
     "collapsed": false,
     "input": [
      "sense_sensibility.index(\"love\")"
     ],
     "language": "python",
     "metadata": {},
     "outputs": [
      {
       "metadata": {},
       "output_type": "pyout",
       "prompt_number": 57,
       "text": [
        "1447"
       ]
      }
     ],
     "prompt_number": 57
    },
    {
     "cell_type": "code",
     "collapsed": false,
     "input": [
      "sense_sensibility[1447:1452]"
     ],
     "language": "python",
     "metadata": {},
     "outputs": [
      {
       "metadata": {},
       "output_type": "pyout",
       "prompt_number": 58,
       "text": [
        "['love', 'for', 'all', 'her', 'three']"
       ]
      }
     ],
     "prompt_number": 58
    },
    {
     "cell_type": "markdown",
     "metadata": {},
     "source": [
      "Notice that slicing a `Text` gives us words and punctuation symbols, or **tokens**, instead of characters."
     ]
    },
    {
     "cell_type": "markdown",
     "metadata": {},
     "source": [
      "There are many ways to examine the **context** of a text apart from simply reading it. A **concordance** view shows us every occurrence of a given word, together with some context. Here we look up the word \"love\" in our two books; unsurprisingly, there is way more matches in Sense and Sensibility than it Moby Dick."
     ]
    },
    {
     "cell_type": "code",
     "collapsed": false,
     "input": [
      "sense_sensibility.concordance(\"love\")"
     ],
     "language": "python",
     "metadata": {},
     "outputs": [
      {
       "output_type": "stream",
       "stream": "stdout",
       "text": [
        "Displaying 25 of 77 matches:\n",
        "priety of going , and her own tender love for all her three children determine\n",
        "es .\" \" I believe you are right , my love ; it will be better that there shoul\n",
        " . It implies everything amiable . I love him already .\" \" I think you will li\n",
        "sentiment of approbation inferior to love .\" \" You may esteem him .\" \" I have \n",
        "n what it was to separate esteem and love .\" Mrs . Dashwood now took pains to \n",
        "oner did she perceive any symptom of love in his behaviour to Elinor , than sh\n",
        " how shall we do without her ?\" \" My love , it will be scarcely a separation .\n",
        "ise . Edward is very amiable , and I love him tenderly . But yet -- he is not \n",
        "ll never see a man whom I can really love . I require so much ! He must have a\n",
        "ry possible charm .\" \" Remember , my love , that you are not seventeen . It is\n",
        "f I do not now . When you tell me to love him as a brother , I shall no more s\n",
        "hat Colonel Brandon was very much in love with Marianne Dashwood . She rather \n",
        "e were ever animated enough to be in love , must have long outlived every sens\n",
        "hirty - five anything near enough to love , to make him a desirable companion \n",
        "roach would have been spared .\" \" My love ,\" said her mother , \" you must not \n",
        "pect that the misery of disappointed love had already been known to him . This\n",
        " most melancholy order of disastrous love . CHAPTER 12 As Elinor and Marianne \n",
        "hen she considered what Marianne ' s love for him was , a quarrel seemed almos\n",
        "ctory way ;-- but you , Elinor , who love to doubt where you can -- it will no\n",
        " man whom we have all such reason to love , and no reason in the world to thin\n",
        "ded as he must be of your sister ' s love , should leave her , and leave her p\n",
        "cannot think that . He must and does love her I am sure .\" \" But with a strang\n",
        " I believe not ,\" cried Elinor . \" I love Willoughby , sincerely love him ; an\n",
        "or . \" I love Willoughby , sincerely love him ; and suspicion of his integrity\n",
        "deed a man could not very well be in love with either of her daughters , witho\n"
       ]
      }
     ],
     "prompt_number": 25
    },
    {
     "cell_type": "code",
     "collapsed": false,
     "input": [
      "moby_dick.concordance(\"love\")"
     ],
     "language": "python",
     "metadata": {},
     "outputs": [
      {
       "output_type": "stream",
       "stream": "stdout",
       "text": [
        "Displaying 24 of 24 matches:\n",
        " to bespeak a monument for her first love , who had been killed by a whale in \n",
        "erlasting itch for things remote . I love to sail forbidden seas , and land on\n",
        "astic our stiff prejudices grow when love once comes to bend them . For now I \n",
        "ng . Now , it was plainly a labor of love for Captain Sleet to describe , as h\n",
        "he whole , I greatly admire and even love the brave , the honest , and learned\n",
        "to - night with hearts as light , To love , as gay and fleeting As bubbles tha\n",
        "he fleece of celestial innocence and love ; and hence , by bringing together t\n",
        "s this visible world seems formed in love , the invisible spheres were formed \n",
        "tism in them , still , while for the love of it they give chase to Moby Dick ,\n",
        "own hearty good - will and brotherly love about it at all . As touching Slave \n",
        "stubborn , as malicious . He did not love Steelkilt , and Steelkilt knew it . \n",
        " of sea - usages and the instinctive love of neatness in seamen ; some of whom\n",
        "g to let that rascal beat ye ? Do ye love brandy ? A hogshead of brandy , then\n",
        "h a sog ! such a sogger ! Don ' t ye love sperm ? There goes three thousand do\n",
        "atever they may reveal of the divine love in the Son , the soft , curled , her\n",
        " come to deadly battle , and all for love . They fence with their long lower j\n",
        "de overtakes the sated Turk ; then a love of ease and virtue supplants the lov\n",
        "ove of ease and virtue supplants the love for maidens ; our Ottoman enters upo\n",
        "go , the Virgin ! that ' s our first love ; we marry and think to be happy for\n",
        "Tranquo , being gifted with a devout love for all matters of barbaric vertu , \n",
        "ght worship is defiance . To neither love nor reverence wilt thou be kind ; an\n",
        " is woe . Come in thy lowest form of love , and I will kneel and kiss thee ; b\n",
        "es , yet full of the sweet things of love and gratitude . Come ! I feel proude\n",
        "dihood of a Nantucketer ' s paternal love , had thus early sought to initiate \n"
       ]
      }
     ],
     "prompt_number": 26
    },
    {
     "cell_type": "markdown",
     "metadata": {},
     "source": [
      "<div style=\"font-size: 1em; margin: 1em 0 1em 0; border: 1px solid #86989B; background-color: #f7f7f7; padding: 0;\">\n",
      "<p style=\"margin: 0; padding: 0.1em 0 0.1em 0.5em; color: white; border-bottom: 1px solid #86989B; font-weight: bold; background-color: #AFC1C4;\">\n",
      "Activity\n",
      "</p>\n",
      "<p style=\"margin: 0.5em 1em 0.5em 1em; padding: 0;\">\n",
      "What would you expect when searching for word \"monstrous\" in these two books? Sure? Let's see it!\n",
      "</p>\n",
      "</div>"
     ]
    },
    {
     "cell_type": "code",
     "collapsed": false,
     "input": [
      "moby_dick.concordance(\"monstrous\")"
     ],
     "language": "python",
     "metadata": {},
     "outputs": []
    },
    {
     "cell_type": "code",
     "collapsed": false,
     "input": [
      "sense_sensibility.concordance(\"monstrous\")"
     ],
     "language": "python",
     "metadata": {},
     "outputs": []
    },
    {
     "cell_type": "markdown",
     "metadata": {},
     "source": [
      "<div style=\"font-size: 1em; margin: 1em 0 1em 0; border: 1px solid #86989B; background-color: #f7f7f7; padding: 0;\">\n",
      "<p style=\"margin: 0; padding: 0.1em 0 0.1em 0.5em; color: white; border-bottom: 1px solid #86989B; font-weight: bold; background-color: #AFC1C4;\">\n",
      "Activity\n",
      "</p>\n",
      "<p style=\"margin: 0.5em 1em 0.5em 1em; padding: 0;\">\n",
      "The *NPS Chat Corpus*, under `nltk.book.text5`, is uncensored. Try search for words like \"lol\".\n",
      "</p>\n",
      "</div>"
     ]
    },
    {
     "cell_type": "markdown",
     "metadata": {},
     "source": [
      "A concordance permits us to see words in context. For example, we saw that \"love\" occurred in contexts such as the \"of\" and \"and\". What other words appear in a similar range of contexts? We can find out by using the `similar()` function."
     ]
    },
    {
     "cell_type": "code",
     "collapsed": false,
     "input": [
      "moby_dick.similar(\"love\")"
     ],
     "language": "python",
     "metadata": {},
     "outputs": [
      {
       "output_type": "stream",
       "stream": "stdout",
       "text": [
        "Building word-context index...\n",
        "man sea it ship ahab air blubber boats bone by captain chase death\n",
        "fear gush hand head him hope land"
       ]
      },
      {
       "output_type": "stream",
       "stream": "stdout",
       "text": [
        "\n"
       ]
      }
     ],
     "prompt_number": 27
    },
    {
     "cell_type": "code",
     "collapsed": false,
     "input": [
      "sense_sensibility.similar(\"love\")"
     ],
     "language": "python",
     "metadata": {},
     "outputs": [
      {
       "output_type": "stream",
       "stream": "stdout",
       "text": [
        "Building word-context index...\n",
        "affection heart mother see sister time town dear elinor it life\n",
        "marianne me word bed do family head her him"
       ]
      },
      {
       "output_type": "stream",
       "stream": "stdout",
       "text": [
        "\n"
       ]
      }
     ],
     "prompt_number": 28
    },
    {
     "cell_type": "markdown",
     "metadata": {},
     "source": [
      "Observe that we get different results for different texts. Austen uses this word quite differently from Melville; for her, \"love\" has connotations related to the family, and usually goes along with \"him\". The function `common_contexts()` allows us to examine just the contexts that are shared by two or more words, such as \"love\" with \"him\" or \"her\", by passing them as a list."
     ]
    },
    {
     "cell_type": "code",
     "collapsed": false,
     "input": [
      "sense_sensibility.common_contexts([\"love\", \"him\"])"
     ],
     "language": "python",
     "metadata": {},
     "outputs": [
      {
       "output_type": "stream",
       "stream": "stdout",
       "text": [
        "in_by of_in to_and to_but to_you\n"
       ]
      }
     ],
     "prompt_number": 33
    },
    {
     "cell_type": "code",
     "collapsed": false,
     "input": [
      "sense_sensibility.common_contexts([\"love\", \"her\"])"
     ],
     "language": "python",
     "metadata": {},
     "outputs": [
      {
       "output_type": "stream",
       "stream": "stdout",
       "text": [
        "in_more to_and to_but to_to to_you\n"
       ]
      }
     ],
     "prompt_number": 31
    },
    {
     "cell_type": "markdown",
     "metadata": {},
     "source": [
      "This means that in the text, the words \"love\" and \"him\" appear toghether with those specigic surroundings:\n",
      "\n",
      "- *in* love her *more*\n",
      "- *to* love her *and*\n",
      "- *to* love her *but*\n",
      "- *to* love her *to*\n",
      "- *to* love her *you*\n",
      "\n",
      "Notice that punctuation is ignored by this and others functions."
     ]
    },
    {
     "cell_type": "heading",
     "level": 3,
     "metadata": {},
     "source": [
      "Dispersion plots"
     ]
    },
    {
     "cell_type": "markdown",
     "metadata": {},
     "source": [
      "It is one thing to automatically detect that a particular word occurs in a text, and to display some words that appear in the same context. However, we can also determine the location of a word in the text: how many words from the beginning it appears. This positional information can be displayed using a **dispersion plot**. Each stripe represents an instance of a word, and each row represents the entire text."
     ]
    },
    {
     "cell_type": "code",
     "collapsed": false,
     "input": [
      "# Due to an issue in NLTK, we need to use the IPython magic %pylab, nothing serious\n",
      "%pylab inline\n",
      "pylab.rcParams['figure.figsize'] = (12.0, 6.0)\n",
      "from nltk.draw.dispersion import dispersion_plot"
     ],
     "language": "python",
     "metadata": {},
     "outputs": [
      {
       "output_type": "stream",
       "stream": "stdout",
       "text": [
        "Populating the interactive namespace from numpy and matplotlib\n"
       ]
      }
     ],
     "prompt_number": 55
    },
    {
     "cell_type": "code",
     "collapsed": false,
     "input": [
      "dispersion_plot(moby_dick, [\"monstrous\", \"love\", \"sail\", \"death\", \"dead\"])"
     ],
     "language": "python",
     "metadata": {},
     "outputs": [
      {
       "output_type": "stream",
       "stream": "stderr",
       "text": [
        "/home/versae/.venvs/data/lib/python3.3/site-packages/matplotlib/backends/backend_agg.py:517: DeprecationWarning: npy_PyFile_Dup is deprecated, use npy_PyFile_Dup2\n",
        "  filename_or_obj, self.figure.dpi)\n",
        "/home/versae/.venvs/data/lib/python3.3/site-packages/matplotlib/backends/backend_agg.py:517: DeprecationWarning: npy_PyFile_Dup is deprecated, use npy_PyFile_Dup2\n",
        "  filename_or_obj, self.figure.dpi)\n"
       ]
      },
      {
       "metadata": {},
       "output_type": "display_data",
       "png": "[encoded data removed]",
       "text": [
        "<matplotlib.figure.Figure at 0x7fdf66aa72d0>"
       ]
      }
     ],
     "prompt_number": 54
    },
    {
     "cell_type": "markdown",
     "metadata": {},
     "source": [
      "<div style=\"font-size: 1em; margin: 1em 0 1em 0; border: 1px solid #86989B; background-color: #f7f7f7; padding: 0;\">\n",
      "<p style=\"margin: 0; padding: 0.1em 0 0.1em 0.5em; color: white; border-bottom: 1px solid #86989B; font-weight: bold; background-color: #AFC1C4;\">\n",
      "Activity\n",
      "</p>\n",
      "<p style=\"margin: 0.5em 1em 0.5em 1em; padding: 0;\">\n",
      "Get dispersion plots for words of your choice from *Sense and Sensibility*.\n",
      "</p>\n",
      "</div>"
     ]
    },
    {
     "cell_type": "heading",
     "level": 3,
     "metadata": {},
     "source": [
      "Counting words"
     ]
    },
    {
     "cell_type": "code",
     "collapsed": false,
     "input": [],
     "language": "python",
     "metadata": {},
     "outputs": []
    }
   ],
   "metadata": {}
  }
 ]
}