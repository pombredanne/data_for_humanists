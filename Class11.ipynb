{
 "metadata": {
  "name": "",
  "signature": "sha256:c01abcccb86a29a36a4b07baed5efd59f2322d265cfccc75499e10e64b19416e"
 },
 "nbformat": 3,
 "nbformat_minor": 0,
 "worksheets": [
  {
   "cells": [
    {
     "cell_type": "heading",
     "level": 1,
     "metadata": {},
     "source": [
      "Data, the Humanist's New Best Friend"
     ]
    },
    {
     "cell_type": "markdown",
     "metadata": {},
     "source": [
      "In this class you are expected to learn:\n",
      "* NLTK\n",
      "* Tokenization\n",
      "* Concordance\n",
      "* Co-Occurrence and similarity\n",
      "* Word and phrase frequencies\n",
      "* Dispersion plots\n",
      "* TextBlob"
     ]
    },
    {
     "cell_type": "markdown",
     "metadata": {},
     "source": [
      "<div align=\"center\">\n",
      "<img src=\"files/images/nlp.jpg\" width=\"350\">\n",
      "*It really is awesome!*\n",
      "</div>"
     ]
    },
    {
     "cell_type": "heading",
     "level": 2,
     "metadata": {},
     "source": [
      "Natural Language Processing (NLP)"
     ]
    },
    {
     "cell_type": "markdown",
     "metadata": {},
     "source": [
      "Extracted from [Tooling up for Digital Humanities: The Text Deluge](http://toolingup.stanford.edu/?page_id=349) (highly recommended reading!):\n",
      "\n",
      "> According to [one estimate](http://www.economist.com/node/15579717?story_id=15579717), human beings created some 150 exabytes (billion gigabytes) of data in 2005 alone. This year, we will create approximately 1,200 exabytes. The Library of Congress [announced](http://www.guardian.co.uk/world/richard-adams-blog/2010/apr/14/twitter-library-of-congress) its decision archive Twitter, which includes the addition of some 50 million tweets per day. A search in Google Books for the phrase \u201cslave trade\u201d in July 2010, for example, returned the following: \u201cAbout 1,600,000 results (0.21 seconds).\u201d Scholars once accustomed to studying a handful of letters or a couple hundred diary entries are now faced with massive amounts of data that cannot possibly be analyzed in traditional ways.\n",
      ">\n",
      "> The trend towards an increasing deluge of information raises the question posed by Gregory Crane in 2006: \u201c**What do you do with a million books?**\u201d \u201cMy answer to that question\u201d wrote Tanya Clement and others in a 2008 article, \u201cis that **whatever you do, you don't read them, because you can\u2019t**.\u201d\n",
      "\n",
      "And that's the key for text analysis today: to not read, which is still kind of ironic. But then, if we can't read one million books, or blogs, or a trillion of tweets, of hundred thousand of margin notes, how are we supposed to analyze that? The answer is Natural Language Processing, or **NLP**.\n",
      "\n",
      "There is a bunch of things that NLP can do for us, I'll list some of them:\n",
      "\n",
      "- [Automatic summarization](https://en.wikipedia.org/wiki/Automatic_summarization).\n",
      "- [Coreference resolution](https://en.wikipedia.org/wiki/Coreference).\n",
      "- [Discourse analysis](https://en.wikipedia.org/wiki/Discourse_analysis).\n",
      "- [Machine translation](https://en.wikipedia.org/wiki/Machine_translation).\n",
      "- [Morphological segmentation](https://en.wikipedia.org/wiki/Morphology_).\n",
      "- [Named entity recognition](https://en.wikipedia.org/wiki/Named_entity_recognition).\n",
      "- [Natural language generation](https://en.wikipedia.org/wiki/Natural_language_generation).\n",
      "- [Natural language understanding](https://en.wikipedia.org/wiki/Natural_language_understanding).\n",
      "- [Optical character recognition](https://en.wikipedia.org/wiki/Optical_character_recognition).\n",
      "- [Part-of-speech tagging](https://en.wikipedia.org/wiki/Part).\n",
      "- [Parsing](https://en.wikipedia.org/wiki/Parsing).\n",
      "- [Question answering](https://en.wikipedia.org/wiki/Question_answering).\n",
      "- [Relationship extraction](https://en.wikipedia.org/wiki/Relationship_extraction).\n",
      "- [Sentence breaking](https://en.wikipedia.org/wiki/Sentence_breaking).\n",
      "- [sentence boundary disambiguation](https://en.wikipedia.org/wiki/Sentence_boundary_disambiguation).\n",
      "- [Sentiment analysis](https://en.wikipedia.org/wiki/Sentiment_analysis).\n",
      "- [Speech recognition](https://en.wikipedia.org/wiki/Speech_recognition).\n",
      "- [Speech segmentation](https://en.wikipedia.org/wiki/Speech_segmentation).\n",
      "- [Topic segmentation](https://en.wikipedia.org/wiki/Topic_segmentation).\n",
      "- [Word segmentation](https://en.wikipedia.org/wiki/Word_segmentation).\n",
      "- [Word sense disambiguation](https://en.wikipedia.org/wiki/Word_sense_disambiguation).\n",
      "- [Information retrieval](https://en.wikipedia.org/wiki/Information_retrieval).\n",
      "- [Information extraction](https://en.wikipedia.org/wiki/Information_extraction).\n",
      "- [Speech processing](https://en.wikipedia.org//wiki/Speech_processing).\n",
      "\n",
      "For most of them there is a package in Python, and most of the time that package is the [Natural Language Toolkit](http://www.nltk.org/), usually abbreviated as NLTK."
     ]
    },
    {
     "cell_type": "heading",
     "level": 2,
     "metadata": {},
     "source": [
      "NLTK"
     ]
    },
    {
     "cell_type": "markdown",
     "metadata": {},
     "source": [
      "The Natural Language Toolkit is a huge package tha covers almost every need you might have about text processing. It was designed with four primary goals in mind:\n",
      "- **Simplicity**: To provide an intuitive framework along with substantial building blocks, giving users a practical knowledge of NLP without getting bogged down in the tedious house-keeping usually associated with processing annotated language data.\n",
      "- **Consistency**: To provide a uniform framework with consistent interfaces and data structures, and easily-guessable method names.\n",
      "- **Extensibility**: To provide a structure into which new software modules can be easily accommodated, including alternative implementations and competing approaches to the same task.\n",
      "- **Modularity**: To provide components that can be used independently without needing to understand the rest of the toolkit.\n",
      "\n",
      "The list of features is overwhelming. Unfortunately, we'll see a fraction of those.\n",
      "<table border=\"1\" class=\"docutils\" id=\"tab-modules\">\n",
      "<colgroup>\n",
      "<col width=\"24%\">\n",
      "<col width=\"24%\">\n",
      "<col width=\"53%\">\n",
      "</colgroup>\n",
      "<thead valign=\"bottom\">\n",
      "<tr><th class=\"head\">Language processing task</th>\n",
      "<th class=\"head\">NLTK modules</th>\n",
      "<th class=\"head\">Functionality</th>\n",
      "</tr>\n",
      "</thead>\n",
      "<tbody valign=\"top\">\n",
      "<tr><td>Accessing corpora</td>\n",
      "<td>`nltk.corpus`</td>\n",
      "<td>standardized interfaces to corpora and lexicons</td>\n",
      "</tr>\n",
      "<tr><td>String processing</td>\n",
      "<td>`nltk.tokenize`, `nltk.stem`</td>\n",
      "<td>tokenizers, sentence tokenizers, stemmers</td>\n",
      "</tr>\n",
      "<tr><td>Collocation discovery</td>\n",
      "<td>`nltk.collocations`</td>\n",
      "<td>t-test, chi-squared, point-wise mutual information</td>\n",
      "</tr>\n",
      "<tr><td>Part-of-speech tagging</td>\n",
      "<td>`nltk.tag`</td>\n",
      "<td>n-gram, backoff, Brill, HMM, TnT</td>\n",
      "</tr>\n",
      "<tr><td>Classification</td>\n",
      "<td>`nltk.classify`, `nltk.cluster`</td>\n",
      "<td>decision tree, maximum entropy, naive Bayes, EM, k-means</td>\n",
      "</tr>\n",
      "<tr><td>Chunking</td>\n",
      "<td>`nltk.chunk`</td>\n",
      "<td>regular expression, n-gram, named-entity</td>\n",
      "</tr>\n",
      "<tr><td>Parsing</td>\n",
      "<td>`nltk.parse`</td>\n",
      "<td>chart, feature-based, unification, probabilistic, dependency</td>\n",
      "</tr>\n",
      "<tr><td>Semantic interpretation</td>\n",
      "<td>`nltk.sem`, `nltk.inference`</td>\n",
      "<td>lambda calculus, first-order logic, model checking</td>\n",
      "</tr>\n",
      "<tr><td>Evaluation metrics</td>\n",
      "<td>`nltk.metrics`</td>\n",
      "<td>precision, recall, agreement coefficients</td>\n",
      "</tr>\n",
      "<tr><td>Probability and estimation</td>\n",
      "<td>`nltk.probability`</td>\n",
      "<td>frequency distributions, smoothed probability distributions</td>\n",
      "</tr>\n",
      "<tr><td>Applications</td>\n",
      "<td>`nltk.app`, `nltk.chat`</td>\n",
      "<td>graphical concordancer, parsers, WordNet browser, chatbots</td>\n",
      "</tr>\n",
      "<tr><td>Linguistic fieldwork</td>\n",
      "<td>`nltk.toolbox`</td>\n",
      "<td>manipulate data in SIL Toolbox format</td>\n",
      "</tr>\n",
      "</tbody>\n",
      "\n",
      "\n",
      "</table>"
     ]
    },
    {
     "cell_type": "markdown",
     "metadata": {},
     "source": [
      "If this is the first time you use NLTK (and I'm pretty sure it is), you need to download some files that NLTK needs, like example books, corpora, information for the tagger, dictionaries, etc. NLTK brings its own downloader, all you have to do is importing the module and invoking `download()`. The downloader then will ask you what do you want to do, so you type `d` for downloading, and then `all` to download everything, everything! It may take some time, but you'll do this only once."
     ]
    },
    {
     "cell_type": "code",
     "collapsed": false,
     "input": [
      "import nltk \n",
      "nltk.download()"
     ],
     "language": "python",
     "metadata": {},
     "outputs": [
      {
       "output_type": "stream",
       "stream": "stdout",
       "text": [
        "NLTK Downloader\n",
        "---------------------------------------------------------------------------\n",
        "    d) Download   l) List    u) Update   c) Config   h) Help   q) Quit\n",
        "---------------------------------------------------------------------------\n"
       ]
      },
      {
       "name": "stdout",
       "output_type": "stream",
       "stream": "stdout",
       "text": [
        "Downloader> d\n"
       ]
      },
      {
       "output_type": "stream",
       "stream": "stdout",
       "text": [
        "\n",
        "Download which package (l=list; x=cancel)?\n"
       ]
      },
      {
       "name": "stdout",
       "output_type": "stream",
       "stream": "stdout",
       "text": [
        "  Identifier> l\n"
       ]
      },
      {
       "output_type": "stream",
       "stream": "stdout",
       "text": [
        "Packages:\n",
        "  [-] book_grammars....... Grammars from NLTK Book"
       ]
      },
      {
       "output_type": "stream",
       "stream": "stdout",
       "text": [
        "\n",
        "  [-] brown............... Brown Corpus\n",
        "  [ ] framenet_v15........ FrameNet 1.5"
       ]
      },
      {
       "output_type": "stream",
       "stream": "stdout",
       "text": [
        "\n",
        "  [-] maxent_ne_chunker... ACE Named Entity Chunker (Maximum entropy)"
       ]
      },
      {
       "output_type": "stream",
       "stream": "stdout",
       "text": [
        "\n",
        "  [-] maxent_treebank_pos_tagger Treebank Part of Speech Tagger (Maximum entropy)\n",
        "  [-] punkt............... Punkt Tokenizer Models"
       ]
      },
      {
       "output_type": "stream",
       "stream": "stdout",
       "text": [
        "\n",
        "  [-] sample_grammars..... Sample Grammars"
       ]
      },
      {
       "output_type": "stream",
       "stream": "stdout",
       "text": [
        "\n",
        "  [-] tagsets............. Help on Tagsets"
       ]
      },
      {
       "output_type": "stream",
       "stream": "stdout",
       "text": [
        "\n",
        "  [-] udhr2............... Universal Declaration of Human Rights Corpus\n",
        "                           (Unicode Version)"
       ]
      },
      {
       "output_type": "stream",
       "stream": "stdout",
       "text": [
        "\n",
        "  [ ] universal_tagset.... Mappings to the Universal Part-of-Speech Tagset"
       ]
      },
      {
       "output_type": "stream",
       "stream": "stdout",
       "text": [
        "\n",
        "\n"
       ]
      },
      {
       "output_type": "stream",
       "stream": "stdout",
       "text": [
        "Collections:\n",
        "  [-] all-corpora......... All the corpora\n",
        "  [-] all................. All packages\n",
        "  [-] book................ Everything used in the NLTK Book\n",
        "\n",
        "([*] marks installed packages; [-] marks out-of-date or corrupt packages)\n",
        "\n",
        "Download which package (l=list; x=cancel)?\n"
       ]
      },
      {
       "name": "stdout",
       "output_type": "stream",
       "stream": "stdout",
       "text": [
        "  Identifier> book_grammars all\n"
       ]
      },
      {
       "output_type": "stream",
       "stream": "stdout",
       "text": [
        "    Downloading package book_grammars to /home/me/nltk_data...\n",
        "      Unzipping grammars/book_grammars.zip."
       ]
      },
      {
       "output_type": "stream",
       "stream": "stdout",
       "text": [
        "\n",
        "    Downloading collection 'all'"
       ]
      },
      {
       "output_type": "stream",
       "stream": "stdout",
       "text": [
        "\n",
        "       | \n",
        "       | Downloading package abc to /home/me/nltk_data...\n",
        "       |   Package abc is already up-to-date!\n",
        "       | Downloading package alpino to /home/me/nltk_data...\n",
        "       |   Package alpino is already up-to-date!\n",
        "       | Downloading package biocreative_ppi to\n",
        "       |     /home/me/nltk_data...\n",
        "       |   Package biocreative_ppi is already up-to-date!\n",
        "       | Downloading package brown to /home/me/nltk_data...\n",
        "       |   Unzipping corpora/brown.zip."
       ]
      },
      {
       "output_type": "stream",
       "stream": "stdout",
       "text": [
        "\n",
        "       | Downloading package brown_tei to /home/me/nltk_data..."
       ]
      },
      {
       "output_type": "stream",
       "stream": "stdout",
       "text": [
        "\n",
        "       |   Package brown_tei is already up-to-date!\n",
        "       | Downloading package cess_cat to /home/me/nltk_data...\n",
        "       |   Package cess_cat is already up-to-date!\n",
        "       | Downloading package cess_esp to /home/me/nltk_data...\n",
        "       |   Package cess_esp is already up-to-date!\n",
        "       | Downloading package chat80 to /home/me/nltk_data...\n",
        "       |   Package chat80 is already up-to-date!\n",
        "       | Downloading package city_database to\n",
        "       |     /home/me/nltk_data...\n",
        "       |   Package city_database is already up-to-date!\n",
        "       | Downloading package cmudict to /home/me/nltk_data...\n",
        "       |   Package cmudict is already up-to-date!\n",
        "       | Downloading package comtrans to /home/me/nltk_data...\n",
        "       |   Package comtrans is already up-to-date!\n",
        "       | Downloading package conll2000 to /home/me/nltk_data...\n",
        "       |   Package conll2000 is already up-to-date!\n",
        "       | Downloading package conll2002 to /home/me/nltk_data...\n",
        "       |   Package conll2002 is already up-to-date!\n",
        "       | Downloading package conll2007 to /home/me/nltk_data...\n",
        "       |   Package conll2007 is already up-to-date!\n",
        "       | Downloading package dependency_treebank to\n",
        "       |     /home/me/nltk_data...\n",
        "       |   Package dependency_treebank is already up-to-date!\n",
        "       | Downloading package europarl_raw to /home/me/nltk_data...\n",
        "       |   Package europarl_raw is already up-to-date!\n",
        "       | Downloading package floresta to /home/me/nltk_data...\n",
        "       |   Package floresta is already up-to-date!\n",
        "       | Downloading package framenet_v15 to /home/me/nltk_data...\n",
        "       |   Unzipping corpora/framenet_v15.zip."
       ]
      },
      {
       "output_type": "stream",
       "stream": "stdout",
       "text": [
        "\n",
        "       | Downloading package gazetteers to /home/me/nltk_data..."
       ]
      },
      {
       "output_type": "stream",
       "stream": "stdout",
       "text": [
        "\n",
        "       |   Package gazetteers is already up-to-date!\n",
        "       | Downloading package genesis to /home/me/nltk_data...\n",
        "       |   Package genesis is already up-to-date!\n",
        "       | Downloading package gutenberg to /home/me/nltk_data...\n",
        "       |   Package gutenberg is already up-to-date!\n",
        "       | Downloading package ieer to /home/me/nltk_data...\n",
        "       |   Package ieer is already up-to-date!\n",
        "       | Downloading package inaugural to /home/me/nltk_data...\n",
        "       |   Package inaugural is already up-to-date!\n",
        "       | Downloading package indian to /home/me/nltk_data...\n",
        "       |   Package indian is already up-to-date!\n",
        "       | Downloading package jeita to /home/me/nltk_data...\n",
        "       |   Package jeita is already up-to-date!\n",
        "       | Downloading package kimmo to /home/me/nltk_data...\n",
        "       |   Package kimmo is already up-to-date!\n",
        "       | Downloading package knbc to /home/me/nltk_data...\n",
        "       |   Package knbc is already up-to-date!\n",
        "       | Downloading package langid to /home/me/nltk_data...\n",
        "       |   Package langid is already up-to-date!\n",
        "       | Downloading package lin_thesaurus to\n",
        "       |     /home/me/nltk_data...\n",
        "       |   Package lin_thesaurus is already up-to-date!\n",
        "       | Downloading package mac_morpho to /home/me/nltk_data...\n",
        "       |   Package mac_morpho is already up-to-date!\n",
        "       | Downloading package machado to /home/me/nltk_data...\n",
        "       |   Package machado is already up-to-date!\n",
        "       | Downloading package movie_reviews to\n",
        "       |     /home/me/nltk_data...\n",
        "       |   Package movie_reviews is already up-to-date!\n",
        "       | Downloading package names to /home/me/nltk_data...\n",
        "       |   Package names is already up-to-date!\n",
        "       | Downloading package nombank.1.0 to /home/me/nltk_data...\n",
        "       |   Package nombank.1.0 is already up-to-date!\n",
        "       | Downloading package nps_chat to /home/me/nltk_data...\n",
        "       |   Package nps_chat is already up-to-date!\n",
        "       | Downloading package paradigms to /home/me/nltk_data...\n",
        "       |   Package paradigms is already up-to-date!\n",
        "       | Downloading package pil to /home/me/nltk_data...\n",
        "       |   Package pil is already up-to-date!\n",
        "       | Downloading package pl196x to /home/me/nltk_data...\n",
        "       |   Package pl196x is already up-to-date!\n",
        "       | Downloading package ppattach to /home/me/nltk_data...\n",
        "       |   Package ppattach is already up-to-date!\n",
        "       | Downloading package problem_reports to\n",
        "       |     /home/me/nltk_data...\n",
        "       |   Package problem_reports is already up-to-date!\n",
        "       | Downloading package propbank to /home/me/nltk_data...\n",
        "       |   Package propbank is already up-to-date!\n",
        "       | Downloading package ptb to /home/me/nltk_data...\n",
        "       |   Package ptb is already up-to-date!\n",
        "       | Downloading package oanc_masc to /home/me/nltk_data...\n",
        "       |   Package oanc_masc is already up-to-date!\n",
        "       | Downloading package qc to /home/me/nltk_data...\n",
        "       |   Package qc is already up-to-date!\n",
        "       | Downloading package reuters to /home/me/nltk_data...\n",
        "       |   Package reuters is already up-to-date!\n",
        "       | Downloading package rte to /home/me/nltk_data...\n",
        "       |   Package rte is already up-to-date!\n",
        "       | Downloading package semcor to /home/me/nltk_data...\n",
        "       |   Package semcor is already up-to-date!\n",
        "       | Downloading package senseval to /home/me/nltk_data...\n",
        "       |   Package senseval is already up-to-date!\n",
        "       | Downloading package shakespeare to /home/me/nltk_data...\n",
        "       |   Package shakespeare is already up-to-date!\n",
        "       | Downloading package sinica_treebank to\n",
        "       |     /home/me/nltk_data...\n",
        "       |   Package sinica_treebank is already up-to-date!\n",
        "       | Downloading package smultron to /home/me/nltk_data...\n",
        "       |   Package smultron is already up-to-date!\n",
        "       | Downloading package state_union to /home/me/nltk_data...\n",
        "       |   Package state_union is already up-to-date!\n",
        "       | Downloading package stopwords to /home/me/nltk_data...\n",
        "       |   Package stopwords is already up-to-date!\n",
        "       | Downloading package swadesh to /home/me/nltk_data...\n",
        "       |   Package swadesh is already up-to-date!\n",
        "       | Downloading package switchboard to /home/me/nltk_data...\n",
        "       |   Package switchboard is already up-to-date!\n",
        "       | Downloading package timit to /home/me/nltk_data...\n",
        "       |   Package timit is already up-to-date!\n",
        "       | Downloading package toolbox to /home/me/nltk_data...\n",
        "       |   Package toolbox is already up-to-date!\n",
        "       | Downloading package treebank to /home/me/nltk_data...\n",
        "       |   Package treebank is already up-to-date!\n",
        "       | Downloading package udhr to /home/me/nltk_data...\n",
        "       |   Package udhr is already up-to-date!\n",
        "       | Downloading package udhr2 to /home/me/nltk_data...\n",
        "       |   Unzipping corpora/udhr2.zip."
       ]
      },
      {
       "output_type": "stream",
       "stream": "stdout",
       "text": [
        "\n",
        "       | Downloading package unicode_samples to\n",
        "       |     /home/me/nltk_data..."
       ]
      },
      {
       "output_type": "stream",
       "stream": "stdout",
       "text": [
        "\n",
        "       |   Package unicode_samples is already up-to-date!\n",
        "       | Downloading package verbnet to /home/me/nltk_data...\n",
        "       |   Package verbnet is already up-to-date!\n",
        "       | Downloading package webtext to /home/me/nltk_data...\n",
        "       |   Package webtext is already up-to-date!\n",
        "       | Downloading package wordnet to /home/me/nltk_data...\n",
        "       |   Package wordnet is already up-to-date!\n",
        "       | Downloading package wordnet_ic to /home/me/nltk_data...\n",
        "       |   Package wordnet_ic is already up-to-date!\n",
        "       | Downloading package words to /home/me/nltk_data...\n",
        "       |   Package words is already up-to-date!\n",
        "       | Downloading package ycoe to /home/me/nltk_data...\n",
        "       |   Package ycoe is already up-to-date!\n",
        "       | Downloading package rslp to /home/me/nltk_data...\n",
        "       |   Package rslp is already up-to-date!\n",
        "       | Downloading package hmm_treebank_pos_tagger to\n",
        "       |     /home/me/nltk_data...\n",
        "       |   Package hmm_treebank_pos_tagger is already up-to-date!\n",
        "       | Downloading package maxent_treebank_pos_tagger to\n",
        "       |     /home/me/nltk_data...\n",
        "       |   Unzipping taggers/maxent_treebank_pos_tagger.zip."
       ]
      },
      {
       "output_type": "stream",
       "stream": "stdout",
       "text": [
        "\n",
        "       | Downloading package universal_tagset to\n",
        "       |     /home/me/nltk_data..."
       ]
      },
      {
       "output_type": "stream",
       "stream": "stdout",
       "text": [
        "\n",
        "       |   Unzipping taggers/universal_tagset.zip."
       ]
      },
      {
       "output_type": "stream",
       "stream": "stdout",
       "text": [
        "\n",
        "       | Downloading package maxent_ne_chunker to\n",
        "       |     /home/me/nltk_data..."
       ]
      },
      {
       "output_type": "stream",
       "stream": "stdout",
       "text": [
        "\n",
        "       |   Unzipping chunkers/maxent_ne_chunker.zip."
       ]
      },
      {
       "output_type": "stream",
       "stream": "stdout",
       "text": [
        "\n",
        "       | Downloading package punkt to /home/me/nltk_data..."
       ]
      },
      {
       "output_type": "stream",
       "stream": "stdout",
       "text": [
        "\n",
        "       |   Unzipping tokenizers/punkt.zip."
       ]
      },
      {
       "output_type": "stream",
       "stream": "stdout",
       "text": [
        "\n",
        "       | Downloading package book_grammars to\n",
        "       |     /home/me/nltk_data..."
       ]
      },
      {
       "output_type": "stream",
       "stream": "stdout",
       "text": [
        "\n",
        "       |   Package book_grammars is already up-to-date!\n",
        "       | Downloading package sample_grammars to\n",
        "       |     /home/me/nltk_data...\n",
        "       |   Unzipping grammars/sample_grammars.zip."
       ]
      },
      {
       "output_type": "stream",
       "stream": "stdout",
       "text": [
        "\n",
        "       | Downloading package spanish_grammars to\n",
        "       |     /home/me/nltk_data..."
       ]
      },
      {
       "output_type": "stream",
       "stream": "stdout",
       "text": [
        "\n",
        "       |   Package spanish_grammars is already up-to-date!\n",
        "       | Downloading package basque_grammars to\n",
        "       |     /home/me/nltk_data...\n",
        "       |   Package basque_grammars is already up-to-date!\n",
        "       | Downloading package large_grammars to\n",
        "       |     /home/me/nltk_data...\n",
        "       |   Package large_grammars is already up-to-date!\n",
        "       | Downloading package tagsets to /home/me/nltk_data...\n",
        "       | "
       ]
      },
      {
       "output_type": "stream",
       "stream": "stdout",
       "text": [
        "\n",
        "     Done downloading collection all\n",
        "\n",
        "---------------------------------------------------------------------------\n",
        "    d) Download   l) List    u) Update   c) Config   h) Help   q) Quit\n",
        "---------------------------------------------------------------------------\n"
       ]
      },
      {
       "name": "stdout",
       "output_type": "stream",
       "stream": "stdout",
       "text": [
        "Downloader> q\n"
       ]
      },
      {
       "metadata": {},
       "output_type": "pyout",
       "prompt_number": 5,
       "text": [
        "True"
       ]
      }
     ],
     "prompt_number": 5
    },
    {
     "cell_type": "markdown",
     "metadata": {},
     "source": [
      "After downloading everythin, we've gained acccess to a corpus of books to play with. One of them is *Moby Dick* by Herman Melville, under `nltk.book.text1`; other is *Sense and Sensibility* by Jane Austen, under `nltk.books.text2`."
     ]
    },
    {
     "cell_type": "code",
     "collapsed": false,
     "input": [
      "from nltk.book import text1 as moby_dick\n",
      "moby_dick"
     ],
     "language": "python",
     "metadata": {},
     "outputs": [
      {
       "output_type": "stream",
       "stream": "stdout",
       "text": [
        "*** Introductory Examples for the NLTK Book ***\n",
        "Loading text1, ..., text9 and sent1, ..., sent9\n",
        "Type the name of the text or sentence to view it.\n",
        "Type: 'texts()' or 'sents()' to list the materials.\n",
        "text1:"
       ]
      },
      {
       "output_type": "stream",
       "stream": "stdout",
       "text": [
        " Moby Dick by Herman Melville 1851\n",
        "text2:"
       ]
      },
      {
       "output_type": "stream",
       "stream": "stdout",
       "text": [
        " Sense and Sensibility by Jane Austen 1811\n",
        "text3:"
       ]
      },
      {
       "output_type": "stream",
       "stream": "stdout",
       "text": [
        " The Book of Genesis\n",
        "text4:"
       ]
      },
      {
       "output_type": "stream",
       "stream": "stdout",
       "text": [
        " Inaugural Address Corpus\n",
        "text5:"
       ]
      },
      {
       "output_type": "stream",
       "stream": "stdout",
       "text": [
        " Chat Corpus\n",
        "text6:"
       ]
      },
      {
       "output_type": "stream",
       "stream": "stdout",
       "text": [
        " Monty Python and the Holy Grail\n",
        "text7:"
       ]
      },
      {
       "output_type": "stream",
       "stream": "stdout",
       "text": [
        " Wall Street Journal\n",
        "text8:"
       ]
      },
      {
       "output_type": "stream",
       "stream": "stdout",
       "text": [
        " Personals Corpus\n",
        "text9:"
       ]
      },
      {
       "output_type": "stream",
       "stream": "stdout",
       "text": [
        " The Man Who Was Thursday by G . K . Chesterton 1908\n"
       ]
      },
      {
       "metadata": {},
       "output_type": "pyout",
       "prompt_number": 1,
       "text": [
        "<Text: Moby Dick by Herman Melville 1851>"
       ]
      }
     ],
     "prompt_number": 1
    },
    {
     "cell_type": "code",
     "collapsed": false,
     "input": [
      "from nltk.book import text2 as sense_sensibility\n",
      "sense_sensibility"
     ],
     "language": "python",
     "metadata": {},
     "outputs": [
      {
       "metadata": {},
       "output_type": "pyout",
       "prompt_number": 2,
       "text": [
        "<Text: Sense and Sensibility by Jane Austen 1811>"
       ]
      }
     ],
     "prompt_number": 2
    },
    {
     "cell_type": "heading",
     "level": 3,
     "metadata": {},
     "source": [
      "Searching text"
     ]
    },
    {
     "cell_type": "markdown",
     "metadata": {},
     "source": [
      "These included books are actually instances of `Text`, which is a class defined by NLTK that behaves like a very rich collection of strings. However, regular operations like checking if a word is in a text, or slicing part of the text, is done the same way that in strings."
     ]
    },
    {
     "cell_type": "code",
     "collapsed": false,
     "input": [
      "type(sense_sensibility)"
     ],
     "language": "python",
     "metadata": {},
     "outputs": [
      {
       "metadata": {},
       "output_type": "pyout",
       "prompt_number": 3,
       "text": [
        "nltk.text.Text"
       ]
      }
     ],
     "prompt_number": 3
    },
    {
     "cell_type": "code",
     "collapsed": false,
     "input": [
      "\"love\" in sense_sensibility"
     ],
     "language": "python",
     "metadata": {},
     "outputs": [
      {
       "metadata": {},
       "output_type": "pyout",
       "prompt_number": 4,
       "text": [
        "True"
       ]
      }
     ],
     "prompt_number": 4
    },
    {
     "cell_type": "code",
     "collapsed": false,
     "input": [
      "sense_sensibility.index(\"love\")"
     ],
     "language": "python",
     "metadata": {},
     "outputs": [
      {
       "metadata": {},
       "output_type": "pyout",
       "prompt_number": 5,
       "text": [
        "1447"
       ]
      }
     ],
     "prompt_number": 5
    },
    {
     "cell_type": "code",
     "collapsed": false,
     "input": [
      "sense_sensibility[1447:1452]"
     ],
     "language": "python",
     "metadata": {},
     "outputs": [
      {
       "metadata": {},
       "output_type": "pyout",
       "prompt_number": 6,
       "text": [
        "['love', 'for', 'all', 'her', 'three']"
       ]
      }
     ],
     "prompt_number": 6
    },
    {
     "cell_type": "markdown",
     "metadata": {},
     "source": [
      "Notice that slicing a `Text` gives us words and punctuation symbols, or **tokens**, instead of characters."
     ]
    },
    {
     "cell_type": "markdown",
     "metadata": {},
     "source": [
      "There are many ways to examine the **context** of a text apart from simply reading it. A **concordance** view shows us every occurrence of a given word, together with some context. Here we look up the word \"love\" in our two books; unsurprisingly, there is way more matches in Sense and Sensibility than it Moby Dick."
     ]
    },
    {
     "cell_type": "code",
     "collapsed": false,
     "input": [
      "sense_sensibility.concordance(\"love\")"
     ],
     "language": "python",
     "metadata": {},
     "outputs": [
      {
       "output_type": "stream",
       "stream": "stdout",
       "text": [
        "Building index...\n",
        "Displaying 25 of 77 matches:"
       ]
      },
      {
       "output_type": "stream",
       "stream": "stdout",
       "text": [
        "\n",
        "priety of going , and her own tender love for all her three children determine\n",
        "es .\" \" I believe you are right , my love ; it will be better that there shoul\n",
        " . It implies everything amiable . I love him already .\" \" I think you will li\n",
        "sentiment of approbation inferior to love .\" \" You may esteem him .\" \" I have \n",
        "n what it was to separate esteem and love .\" Mrs . Dashwood now took pains to \n",
        "oner did she perceive any symptom of love in his behaviour to Elinor , than sh\n",
        " how shall we do without her ?\" \" My love , it will be scarcely a separation .\n",
        "ise . Edward is very amiable , and I love him tenderly . But yet -- he is not \n",
        "ll never see a man whom I can really love . I require so much ! He must have a\n",
        "ry possible charm .\" \" Remember , my love , that you are not seventeen . It is\n",
        "f I do not now . When you tell me to love him as a brother , I shall no more s\n",
        "hat Colonel Brandon was very much in love with Marianne Dashwood . She rather \n",
        "e were ever animated enough to be in love , must have long outlived every sens\n",
        "hirty - five anything near enough to love , to make him a desirable companion \n",
        "roach would have been spared .\" \" My love ,\" said her mother , \" you must not \n",
        "pect that the misery of disappointed love had already been known to him . This\n",
        " most melancholy order of disastrous love . CHAPTER 12 As Elinor and Marianne \n",
        "hen she considered what Marianne ' s love for him was , a quarrel seemed almos\n",
        "ctory way ;-- but you , Elinor , who love to doubt where you can -- it will no\n",
        " man whom we have all such reason to love , and no reason in the world to thin\n",
        "ded as he must be of your sister ' s love , should leave her , and leave her p\n",
        "cannot think that . He must and does love her I am sure .\" \" But with a strang\n",
        " I believe not ,\" cried Elinor . \" I love Willoughby , sincerely love him ; an\n",
        "or . \" I love Willoughby , sincerely love him ; and suspicion of his integrity\n",
        "deed a man could not very well be in love with either of her daughters , witho\n"
       ]
      }
     ],
     "prompt_number": 7
    },
    {
     "cell_type": "code",
     "collapsed": false,
     "input": [
      "moby_dick.concordance(\"love\")"
     ],
     "language": "python",
     "metadata": {},
     "outputs": [
      {
       "output_type": "stream",
       "stream": "stdout",
       "text": [
        "Building index...\n",
        "Displaying 24 of 24 matches:"
       ]
      },
      {
       "output_type": "stream",
       "stream": "stdout",
       "text": [
        "\n",
        " to bespeak a monument for her first love , who had been killed by a whale in \n",
        "erlasting itch for things remote . I love to sail forbidden seas , and land on\n",
        "astic our stiff prejudices grow when love once comes to bend them . For now I \n",
        "ng . Now , it was plainly a labor of love for Captain Sleet to describe , as h\n",
        "he whole , I greatly admire and even love the brave , the honest , and learned\n",
        "to - night with hearts as light , To love , as gay and fleeting As bubbles tha\n",
        "he fleece of celestial innocence and love ; and hence , by bringing together t\n",
        "s this visible world seems formed in love , the invisible spheres were formed \n",
        "tism in them , still , while for the love of it they give chase to Moby Dick ,\n",
        "own hearty good - will and brotherly love about it at all . As touching Slave \n",
        "stubborn , as malicious . He did not love Steelkilt , and Steelkilt knew it . \n",
        " of sea - usages and the instinctive love of neatness in seamen ; some of whom\n",
        "g to let that rascal beat ye ? Do ye love brandy ? A hogshead of brandy , then\n",
        "h a sog ! such a sogger ! Don ' t ye love sperm ? There goes three thousand do\n",
        "atever they may reveal of the divine love in the Son , the soft , curled , her\n",
        " come to deadly battle , and all for love . They fence with their long lower j\n",
        "de overtakes the sated Turk ; then a love of ease and virtue supplants the lov\n",
        "ove of ease and virtue supplants the love for maidens ; our Ottoman enters upo\n",
        "go , the Virgin ! that ' s our first love ; we marry and think to be happy for\n",
        "Tranquo , being gifted with a devout love for all matters of barbaric vertu , \n",
        "ght worship is defiance . To neither love nor reverence wilt thou be kind ; an\n",
        " is woe . Come in thy lowest form of love , and I will kneel and kiss thee ; b\n",
        "es , yet full of the sweet things of love and gratitude . Come ! I feel proude\n",
        "dihood of a Nantucketer ' s paternal love , had thus early sought to initiate \n"
       ]
      }
     ],
     "prompt_number": 8
    },
    {
     "cell_type": "markdown",
     "metadata": {},
     "source": [
      "<div style=\"font-size: 1em; margin: 1em 0 1em 0; border: 1px solid #86989B; background-color: #f7f7f7; padding: 0;\">\n",
      "<p style=\"margin: 0; padding: 0.1em 0 0.1em 0.5em; color: white; border-bottom: 1px solid #86989B; font-weight: bold; background-color: #AFC1C4;\">\n",
      "Activity\n",
      "</p>\n",
      "<p style=\"margin: 0.5em 1em 0.5em 1em; padding: 0;\">\n",
      "What would you expect when searching for word \"monstrous\" in these two books? Sure? Let's see it!\n",
      "</p>\n",
      "</div>"
     ]
    },
    {
     "cell_type": "code",
     "collapsed": false,
     "input": [
      "moby_dick.concordance(\"monstrous\")"
     ],
     "language": "python",
     "metadata": {},
     "outputs": []
    },
    {
     "cell_type": "code",
     "collapsed": false,
     "input": [
      "sense_sensibility.concordance(\"monstrous\")"
     ],
     "language": "python",
     "metadata": {},
     "outputs": []
    },
    {
     "cell_type": "markdown",
     "metadata": {},
     "source": [
      "<div style=\"font-size: 1em; margin: 1em 0 1em 0; border: 1px solid #86989B; background-color: #f7f7f7; padding: 0;\">\n",
      "<p style=\"margin: 0; padding: 0.1em 0 0.1em 0.5em; color: white; border-bottom: 1px solid #86989B; font-weight: bold; background-color: #AFC1C4;\">\n",
      "Activity\n",
      "</p>\n",
      "<p style=\"margin: 0.5em 1em 0.5em 1em; padding: 0;\">\n",
      "The *NPS Chat Corpus*, under `nltk.book.text5`, is uncensored. Try search for words like \"lol\".\n",
      "</p>\n",
      "</div>"
     ]
    },
    {
     "cell_type": "markdown",
     "metadata": {},
     "source": [
      "A concordance permits us to see words in context. For example, we saw that \"love\" occurred in contexts such as the \"of\" and \"and\". What other words appear in a similar range of contexts? We can find out by using the `similar()` function."
     ]
    },
    {
     "cell_type": "code",
     "collapsed": false,
     "input": [
      "moby_dick.similar(\"love\")"
     ],
     "language": "python",
     "metadata": {},
     "outputs": [
      {
       "output_type": "stream",
       "stream": "stdout",
       "text": [
        "Building word-context index...\n",
        "man sea it ship ahab air blubber boats bone by captain chase death\n",
        "fear gush hand head him hope land"
       ]
      },
      {
       "output_type": "stream",
       "stream": "stdout",
       "text": [
        "\n"
       ]
      }
     ],
     "prompt_number": 9
    },
    {
     "cell_type": "code",
     "collapsed": false,
     "input": [
      "sense_sensibility.similar(\"love\")"
     ],
     "language": "python",
     "metadata": {},
     "outputs": [
      {
       "output_type": "stream",
       "stream": "stdout",
       "text": [
        "Building word-context index...\n",
        "affection heart mother see sister time town dear elinor it life\n",
        "marianne me word bed do family head her him"
       ]
      },
      {
       "output_type": "stream",
       "stream": "stdout",
       "text": [
        "\n"
       ]
      }
     ],
     "prompt_number": 10
    },
    {
     "cell_type": "markdown",
     "metadata": {},
     "source": [
      "Observe that we get different results for different texts. Austen uses this word quite differently from Melville; for her, \"love\" has connotations related to the family, and usually goes along with \"him\". The function `common_contexts()` allows us to examine just the contexts that are shared by two or more words, such as \"love\" with \"him\" or \"her\", by passing them as a list."
     ]
    },
    {
     "cell_type": "code",
     "collapsed": false,
     "input": [
      "sense_sensibility.common_contexts([\"love\", \"him\"])"
     ],
     "language": "python",
     "metadata": {},
     "outputs": [
      {
       "output_type": "stream",
       "stream": "stdout",
       "text": [
        "in_by of_in to_and to_but to_you\n"
       ]
      }
     ],
     "prompt_number": 11
    },
    {
     "cell_type": "code",
     "collapsed": false,
     "input": [
      "sense_sensibility.common_contexts([\"love\", \"her\"])"
     ],
     "language": "python",
     "metadata": {},
     "outputs": [
      {
       "output_type": "stream",
       "stream": "stdout",
       "text": [
        "in_more to_and to_but to_to to_you\n"
       ]
      }
     ],
     "prompt_number": 12
    },
    {
     "cell_type": "markdown",
     "metadata": {},
     "source": [
      "This means that in the text, the words \"love\" and \"him\" appear toghether with those specigic surroundings:\n",
      "\n",
      "- *in* love her *more*\n",
      "- *to* love her *and*\n",
      "- *to* love her *but*\n",
      "- *to* love her *to*\n",
      "- *to* love her *you*\n",
      "\n",
      "Notice that punctuation is ignored by this and others functions."
     ]
    },
    {
     "cell_type": "heading",
     "level": 3,
     "metadata": {},
     "source": [
      "Dispersion plots"
     ]
    },
    {
     "cell_type": "markdown",
     "metadata": {},
     "source": [
      "It is one thing to automatically detect that a particular word occurs in a text, and to display some words that appear in the same context. However, we can also determine the location of a word in the text: how many words from the beginning it appears. This positional information can be displayed using a **dispersion plot**. Each stripe represents an instance of a word, and each row represents the entire text."
     ]
    },
    {
     "cell_type": "code",
     "collapsed": false,
     "input": [
      "# Due to an issue in NLTK, we need to use the IPython magic %pylab, nothing serious\n",
      "%pylab inline\n",
      "pylab.rcParams['figure.figsize'] = (12.0, 6.0)\n",
      "from nltk.draw.dispersion import dispersion_plot"
     ],
     "language": "python",
     "metadata": {},
     "outputs": [
      {
       "output_type": "stream",
       "stream": "stdout",
       "text": [
        "Populating the interactive namespace from numpy and matplotlib\n"
       ]
      }
     ],
     "prompt_number": 15
    },
    {
     "cell_type": "code",
     "collapsed": false,
     "input": [
      "dispersion_plot(moby_dick, [\"monstrous\", \"love\", \"sail\", \"death\", \"dead\"])"
     ],
     "language": "python",
     "metadata": {},
     "outputs": [
      {
       "output_type": "stream",
       "stream": "stderr",
       "text": [
        "/home/versae/.venvs/data/lib/python3.3/site-packages/matplotlib/backends/backend_agg.py:517: DeprecationWarning: npy_PyFile_Dup is deprecated, use npy_PyFile_Dup2\n",
        "  filename_or_obj, self.figure.dpi)\n",
        "/home/versae/.venvs/data/lib/python3.3/site-packages/matplotlib/backends/backend_agg.py:517: DeprecationWarning: npy_PyFile_Dup is deprecated, use npy_PyFile_Dup2\n",
        "  filename_or_obj, self.figure.dpi)\n"
       ]
      },
      {
       "metadata": {},
       "output_type": "display_data",
       "png": "[encoded data removed]",
       "text": [
        "<matplotlib.figure.Figure at 0x7f46b988a250>"
       ]
      }
     ],
     "prompt_number": 16
    },
    {
     "cell_type": "markdown",
     "metadata": {},
     "source": [
      "<div style=\"font-size: 1em; margin: 1em 0 1em 0; border: 1px solid #86989B; background-color: #f7f7f7; padding: 0;\">\n",
      "<p style=\"margin: 0; padding: 0.1em 0 0.1em 0.5em; color: white; border-bottom: 1px solid #86989B; font-weight: bold; background-color: #AFC1C4;\">\n",
      "Activity\n",
      "</p>\n",
      "<p style=\"margin: 0.5em 1em 0.5em 1em; padding: 0;\">\n",
      "Get dispersion plots for words of your choice from *Sense and Sensibility*.\n",
      "</p>\n",
      "</div>"
     ]
    },
    {
     "cell_type": "heading",
     "level": 3,
     "metadata": {},
     "source": [
      "Counting words"
     ]
    },
    {
     "cell_type": "markdown",
     "metadata": {},
     "source": [
      "On thing that comes out from the previous examples is the fact that both books use different sets of words or **vocabularies**. And we are able to see how different they are. Let's begin by finding out the length of a text from start to finish, in terms of the words and punctuation symbols that appear."
     ]
    },
    {
     "cell_type": "code",
     "collapsed": false,
     "input": [
      "len(moby_dick)"
     ],
     "language": "python",
     "metadata": {},
     "outputs": [
      {
       "metadata": {},
       "output_type": "pyout",
       "prompt_number": 17,
       "text": [
        "260819"
       ]
      }
     ],
     "prompt_number": 17
    },
    {
     "cell_type": "markdown",
     "metadata": {},
     "source": [
      "In Python there is another data structure called the `set`, that it's like a list with no duplicates. So in order to get the vocabulary used in a text, we need to remove duplicate words."
     ]
    },
    {
     "cell_type": "code",
     "collapsed": false,
     "input": [
      "len(set(moby_dick))"
     ],
     "language": "python",
     "metadata": {},
     "outputs": [
      {
       "metadata": {},
       "output_type": "pyout",
       "prompt_number": 20,
       "text": [
        "19317"
       ]
      }
     ],
     "prompt_number": 20
    },
    {
     "cell_type": "markdown",
     "metadata": {},
     "source": [
      "But that number includes numbers and punctuation symbols. Let's take a look to the some elements. We can sort the words by using the built-in function `sorted()`"
     ]
    },
    {
     "cell_type": "code",
     "collapsed": false,
     "input": [
      "sorted(set(moby_dick))[275:290]"
     ],
     "language": "python",
     "metadata": {},
     "outputs": [
      {
       "metadata": {},
       "output_type": "pyout",
       "prompt_number": 31,
       "text": [
        "[\"?'--'\",\n",
        " '?--',\n",
        " '?--\"',\n",
        " \"?--'\",\n",
        " 'A',\n",
        " 'ABOUT',\n",
        " 'ACCOUNT',\n",
        " 'ADDITIONAL',\n",
        " 'ADVANCING',\n",
        " 'ADVENTURES',\n",
        " 'AFFGHANISTAN',\n",
        " 'AFRICA',\n",
        " 'AFTER',\n",
        " 'AGAINST',\n",
        " 'AHAB']"
       ]
      }
     ],
     "prompt_number": 31
    },
    {
     "cell_type": "markdown",
     "metadata": {},
     "source": [
      "So in order to calculate the number of different words, we must start at position 279. We discover the size of the vocabulary indirectly, by asking for the number of items in the set, and again we can use `len()` to obtain this number."
     ]
    },
    {
     "cell_type": "code",
     "collapsed": false,
     "input": [
      "len(sorted(set(moby_dick))[279:])"
     ],
     "language": "python",
     "metadata": {},
     "outputs": [
      {
       "metadata": {},
       "output_type": "pyout",
       "prompt_number": 33,
       "text": [
        "19038"
       ]
      }
     ],
     "prompt_number": 33
    },
    {
     "cell_type": "markdown",
     "metadata": {},
     "source": [
      "Although it has 260,819 tokens, this book has only 19,038 distinct words, or **word types**. A word type is the form or spelling of the word independently of its specific occurrences in a text \u2014 that is, the word considered as a unique item of vocabulary. Our previous count of 19,317 including punctuation symbols is generally called unique items types instead of word types.\n",
      "\n",
      "Now, let's calculate a measure of the **lexical richness** or lexical diversity of the text as the average number of times that each word has been used in a text. For this measure we will include punctuation symbols. The next example shows us that each word is used 13 times on average in *Moby Dick*."
     ]
    },
    {
     "cell_type": "code",
     "collapsed": false,
     "input": [
      "len(moby_dick) / len(set(moby_dick))"
     ],
     "language": "python",
     "metadata": {},
     "outputs": [
      {
       "metadata": {},
       "output_type": "pyout",
       "prompt_number": 34,
       "text": [
        "13.502044830977896"
       ]
      }
     ],
     "prompt_number": 34
    },
    {
     "cell_type": "markdown",
     "metadata": {},
     "source": [
      "Next, let's focus on particular words. We can count how often a word occurs in a text, and compute what percentage of the text is taken up by a specific word:"
     ]
    },
    {
     "cell_type": "code",
     "collapsed": false,
     "input": [
      "moby_dick.count(\"death\")"
     ],
     "language": "python",
     "metadata": {},
     "outputs": [
      {
       "metadata": {},
       "output_type": "pyout",
       "prompt_number": 35,
       "text": [
        "71"
       ]
      }
     ],
     "prompt_number": 35
    },
    {
     "cell_type": "code",
     "collapsed": false,
     "input": [
      "100 * moby_dick.count('the') / len(moby_dick)"
     ],
     "language": "python",
     "metadata": {},
     "outputs": [
      {
       "metadata": {},
       "output_type": "pyout",
       "prompt_number": 38,
       "text": [
        "5.260736372733581"
       ]
      }
     ],
     "prompt_number": 38
    },
    {
     "cell_type": "markdown",
     "metadata": {},
     "source": [
      "<div style=\"font-size: 1em; margin: 1em 0 1em 0; border: 1px solid #86989B; background-color: #f7f7f7; padding: 0;\">\n",
      "<p style=\"margin: 0; padding: 0.1em 0 0.1em 0.5em; color: white; border-bottom: 1px solid #86989B; font-weight: bold; background-color: #AFC1C4;\">\n",
      "Activity\n",
      "</p>\n",
      "<p style=\"margin: 0.5em 1em 0.5em 1em; padding: 0;\">\n",
      "Create two functions: 1) `lexical_richness(text)` receives a list of words or a `Text` and returns its lexical richness; and 2) `word_percentage(text, word)` receives a list of words or a `Text` and a word and return the percentage of the text taken up by the word.\n",
      "<br/><br/>\n",
      "For example, `lexical_richness(moby_dick)` should return `13.502044830977896`; and `word_percentage(moby_dick, \"the\")` should return `5.260736372733581`.\n",
      "<br/><br/>\n",
      "Use these new functions to calculate lexical richness of `nltk.book.text3`, `nltk.book.text4`, and `nltk.book.text5`, as well as the percentage of the following words: a, the, this, those, these, I.\n",
      "</p>\n",
      "</div>"
     ]
    },
    {
     "cell_type": "heading",
     "level": 3,
     "metadata": {},
     "source": [
      "Frequency Distributions"
     ]
    },
    {
     "cell_type": "markdown",
     "metadata": {},
     "source": [
      "The preceding percentage measure is nice to compare words between different texts, but doesn't help on identifying the words of a text that are most informative about the topic and genre of the text. Imagine how you might go about finding the 50 most frequent words of a book. One method would be to keep a tally for each vocabulary item. The tally would need thousands of rows, and it would be an exceedingly laborious process \u2014 so laborious that we would rather assign the task to a machine.\n",
      "A tally like that is known as a **frequency distribution**, and it tells us the frequency of each vocabulary item in the text. It is a *distribution* because it tells us how the total number of word tokens in the text are distributed across the vocabulary items. Since we often need frequency distributions in language processing, NLTK provides built-in support for them. Let's use a `FreqDist` to find the most frequent words of Moby Dick."
     ]
    },
    {
     "cell_type": "code",
     "collapsed": false,
     "input": [
      "from nltk import FreqDist"
     ],
     "language": "python",
     "metadata": {},
     "outputs": [],
     "prompt_number": 39
    },
    {
     "cell_type": "code",
     "collapsed": false,
     "input": [
      "moby_dick_fdist = FreqDist(moby_dick)\n",
      "moby_dick_fdist"
     ],
     "language": "python",
     "metadata": {},
     "outputs": [
      {
       "metadata": {},
       "output_type": "pyout",
       "prompt_number": 60,
       "text": [
        "<FreqDist with 19317 samples and 260819 outcomes>"
       ]
      }
     ],
     "prompt_number": 60
    },
    {
     "cell_type": "code",
     "collapsed": false,
     "input": [
      "moby_dick_fdist[\"whale\"]"
     ],
     "language": "python",
     "metadata": {},
     "outputs": [
      {
       "metadata": {},
       "output_type": "pyout",
       "prompt_number": 66,
       "text": [
        "906"
       ]
      }
     ],
     "prompt_number": 66
    },
    {
     "cell_type": "code",
     "collapsed": false,
     "input": [
      "moby_dick_fdist.freq(\"whale\")  # Frequency"
     ],
     "language": "python",
     "metadata": {},
     "outputs": [
      {
       "metadata": {},
       "output_type": "pyout",
       "prompt_number": 67,
       "text": [
        "0.003473673313677301"
       ]
      }
     ],
     "prompt_number": 67
    },
    {
     "cell_type": "markdown",
     "metadata": {},
     "source": [
      "If we want to get the 50 most common words, we need to sort `moby_dick_fdist`, which is like a dictionary, but sorting by value in a descending way, first the higher and then lower. In Python there is a trick to sort dictionary keys by their values: use the `key` parameter in `sorted()`."
     ]
    },
    {
     "cell_type": "code",
     "collapsed": false,
     "input": [
      "x = {1: 2, 3: 4, 4:3, 2:1, 0:0}\n",
      "sorted_x = sorted(x, key=x.get)\n",
      "sorted_x"
     ],
     "language": "python",
     "metadata": {},
     "outputs": [
      {
       "metadata": {},
       "output_type": "pyout",
       "prompt_number": 57,
       "text": [
        "[0, 2, 1, 4, 3]"
       ]
      }
     ],
     "prompt_number": 57
    },
    {
     "cell_type": "markdown",
     "metadata": {},
     "source": [
      "And now we just reverse the resulting list by invoking the method `reverse()` from the list."
     ]
    },
    {
     "cell_type": "code",
     "collapsed": false,
     "input": [
      "sorted_x.reverse()\n",
      "sorted_x"
     ],
     "language": "python",
     "metadata": {},
     "outputs": [
      {
       "metadata": {},
       "output_type": "pyout",
       "prompt_number": 58,
       "text": [
        "[3, 4, 1, 2, 0]"
       ]
      }
     ],
     "prompt_number": 58
    },
    {
     "cell_type": "markdown",
     "metadata": {},
     "source": [
      "Let's put all toghether to get the 50 most common words in *Moby Dick*."
     ]
    },
    {
     "cell_type": "code",
     "collapsed": false,
     "input": [
      "sorted_moby_dick = sorted(moby_dick_fdist, key=moby_dick_fdist.get)\n",
      "sorted_moby_dick.reverse()\n",
      "sorted_moby_dick[:50]"
     ],
     "language": "python",
     "metadata": {},
     "outputs": [
      {
       "metadata": {},
       "output_type": "pyout",
       "prompt_number": 61,
       "text": [
        "[',',\n",
        " 'the',\n",
        " '.',\n",
        " 'of',\n",
        " 'and',\n",
        " 'a',\n",
        " 'to',\n",
        " ';',\n",
        " 'in',\n",
        " 'that',\n",
        " \"'\",\n",
        " '-',\n",
        " 'his',\n",
        " 'it',\n",
        " 'I',\n",
        " 's',\n",
        " 'is',\n",
        " 'he',\n",
        " 'with',\n",
        " 'was',\n",
        " 'as',\n",
        " '\"',\n",
        " 'all',\n",
        " 'for',\n",
        " 'this',\n",
        " '!',\n",
        " 'at',\n",
        " 'by',\n",
        " 'but',\n",
        " 'not',\n",
        " '--',\n",
        " 'him',\n",
        " 'from',\n",
        " 'be',\n",
        " 'on',\n",
        " 'so',\n",
        " 'whale',\n",
        " 'one',\n",
        " 'you',\n",
        " 'had',\n",
        " 'have',\n",
        " 'there',\n",
        " 'But',\n",
        " 'or',\n",
        " 'were',\n",
        " 'now',\n",
        " 'which',\n",
        " '?',\n",
        " 'me',\n",
        " 'like']"
       ]
      }
     ],
     "prompt_number": 61
    },
    {
     "cell_type": "markdown",
     "metadata": {},
     "source": [
      "<div style=\"font-size: 1em; margin: 1em 0 1em 0; border: 1px solid #86989B; background-color: #f7f7f7; padding: 0;\">\n",
      "<p style=\"margin: 0; padding: 0.1em 0 0.1em 0.5em; color: white; border-bottom: 1px solid #86989B; font-weight: bold; background-color: #AFC1C4;\">\n",
      "Activity\n",
      "</p>\n",
      "<p style=\"margin: 0.5em 1em 0.5em 1em; padding: 0;\">\n",
      "Create a function, `most_commont(text, n)`, that receives a list of words or a `Text` and a number and returns the most common words.\n",
      "<br/><br/>\n",
      "For example, `most_commont(moby_dick, 5)` should return the 5 most common words: `[',', 'the', '.', 'of', 'and']`.\n",
      "</p>\n",
      "</div>"
     ]
    },
    {
     "cell_type": "markdown",
     "metadata": {},
     "source": [
      "Do any words produced in the last example help us grasp the topic or genre of this text? Only one word, whale, is slightly informative! It occurs over 900 times. The rest of the words tell us nothing about the text; they're just English \"plumbing\" or **stop words**. What proportion of the text is taken up with such words? We can generate a cumulative frequency plot for these words, which is pretty similar to the histogram we've already seen in past classes."
     ]
    },
    {
     "cell_type": "code",
     "collapsed": false,
     "input": [
      "moby_dick_fdist.plot(50, cumulative=True)"
     ],
     "language": "python",
     "metadata": {},
     "outputs": [
      {
       "output_type": "stream",
       "stream": "stderr",
       "text": [
        "/home/versae/.venvs/data/lib/python3.3/site-packages/matplotlib/backends/backend_agg.py:517: DeprecationWarning: npy_PyFile_Dup is deprecated, use npy_PyFile_Dup2\n",
        "  filename_or_obj, self.figure.dpi)\n",
        "/home/versae/.venvs/data/lib/python3.3/site-packages/matplotlib/backends/backend_agg.py:517: DeprecationWarning: npy_PyFile_Dup is deprecated, use npy_PyFile_Dup2\n",
        "  filename_or_obj, self.figure.dpi)\n"
       ]
      },
      {
       "metadata": {},
       "output_type": "display_data",
       "png": "[encoded data removed]",
       "text": [
        "<matplotlib.figure.Figure at 0x7f46cf996ed0>"
       ]
      }
     ],
     "prompt_number": 64
    },
    {
     "cell_type": "markdown",
     "metadata": {},
     "source": [
      "These 50 words account for nearly half the book!\n",
      "\n",
      "If the frequent words don't help us, how about the words that occur once only, the so-called **hapaxes**? View them by calling `moby_dick_fdist.hapaxes()`. This list contains *lexicographer*, *cetological*, *contraband*, *expostulations*, and about 9,000 others. It seems that there are too many rare words, and without seeing the context we probably can't guess what half of the hapaxes mean in any case! Since neither frequent nor infrequent words help, we need to try something else... in the next class!"
     ]
    },
    {
     "cell_type": "markdown",
     "metadata": {},
     "source": [
      "<div style=\"font-size: 1em; margin: 1em 0 1em 0; border: 1px solid #86989B; background-color: #f7f7f7; padding: 0;\">\n",
      "<p style=\"margin: 0; padding: 0.1em 0 0.1em 0.5em; color: white; border-bottom: 1px solid #86989B; font-weight: bold; background-color: #AFC1C4;\">\n",
      "Activity\n",
      "</p>\n",
      "<p style=\"margin: 0.5em 1em 0.5em 1em; padding: 0;\">\n",
      "Using Python comprehension lists we can get words from a vocabulary that meet certain conditions. For example, `[w for w in set(sense_sensibility) if len(w) > 15]` returns a list of unique words that are longer than 15 characters. What if we also wanted words that are longer than 10 and happen more than 5 times in the text?\n",
      "</p>\n",
      "</div>"
     ]
    },
    {
     "cell_type": "heading",
     "level": 3,
     "metadata": {},
     "source": [
      "Tokenization"
     ]
    },
    {
     "cell_type": "markdown",
     "metadata": {},
     "source": [
      "But before finishing, some words on tokenization. In previous examples from the NLTK corpora, the books were already in `Text` format, but how can we build those list of words from a text? That's **tokenization**. Basically the process by which you split a text in parts. What you use to take apart the text is up to you; can be by line breaks, by word, by commas, etc. In text processing, spliting by words is so common than NLTK include that tokenizer by default.\n",
      "\n",
      "For example, let's tokenize the book *Crime and Punishment* by Fyodor Dostoyevsky. We first load the content from the file."
     ]
    },
    {
     "cell_type": "code",
     "collapsed": false,
     "input": [
      "crime_and_punishment_txt = open(\"data/crime_and_punishment.txt\").read()"
     ],
     "language": "python",
     "metadata": {},
     "outputs": [],
     "prompt_number": 73
    },
    {
     "cell_type": "markdown",
     "metadata": {},
     "source": [
      "And then we tokenize it, that simple."
     ]
    },
    {
     "cell_type": "code",
     "collapsed": false,
     "input": [
      "from nltk import tokenize\n",
      "word_tokenize = tokenize.WordPunctTokenizer()  # We need to create an instance\n",
      "word_tokenize.tokenize(crime_and_punishment_txt)[:13]"
     ],
     "language": "python",
     "metadata": {},
     "outputs": [
      {
       "metadata": {},
       "output_type": "pyout",
       "prompt_number": 76,
       "text": [
        "['\\ufeff',\n",
        " 'The',\n",
        " 'Project',\n",
        " 'Gutenberg',\n",
        " 'EBook',\n",
        " 'of',\n",
        " 'Crime',\n",
        " 'and',\n",
        " 'Punishment',\n",
        " ',',\n",
        " 'by',\n",
        " 'Fyodor',\n",
        " 'Dostoevsky']"
       ]
      }
     ],
     "prompt_number": 76
    },
    {
     "cell_type": "markdown",
     "metadata": {},
     "source": [
      "The last step is to convert this list into a `Text` object."
     ]
    },
    {
     "cell_type": "code",
     "collapsed": false,
     "input": [
      "from nltk import Text\n",
      "Text(word_tokenize.tokenize(crime_and_punishment_txt))"
     ],
     "language": "python",
     "metadata": {},
     "outputs": [
      {
       "metadata": {},
       "output_type": "pyout",
       "prompt_number": 85,
       "text": [
        "<Text: \ufeff The Project Gutenberg EBook of Crime and...>"
       ]
      }
     ],
     "prompt_number": 85
    },
    {
     "cell_type": "markdown",
     "metadata": {},
     "source": [
      "And there is many more tokenizers, so we can use a sentence tokenizer, like `PunktSentenceTokenizer`, and calculate same measures for sentences instead of words. Some tokenizers, like word and sentence tokenizers, are so common that NLTK has handy functions ready for them, `nltk.tokenize.word_tokenize()` and `nltk.tokenize.sent_tokenize()`."
     ]
    },
    {
     "cell_type": "markdown",
     "metadata": {},
     "source": [
      "<div style=\"font-size: 1em; margin: 1em 0 1em 0; border: 1px solid #86989B; background-color: #f7f7f7; padding: 0;\">\n",
      "<p style=\"margin: 0; padding: 0.1em 0 0.1em 0.5em; color: white; border-bottom: 1px solid #86989B; font-weight: bold; background-color: #AFC1C4;\">\n",
      "Activity\n",
      "</p>\n",
      "<p style=\"margin: 0.5em 1em 0.5em 1em; padding: 0;\">\n",
      "Spend some time playing around the other tokenizers.\n",
      "</p>\n",
      "</div>"
     ]
    },
    {
     "cell_type": "heading",
     "level": 3,
     "metadata": {},
     "source": [
      "TextBlob"
     ]
    },
    {
     "cell_type": "markdown",
     "metadata": {},
     "source": [
      "In the remote case that those tokenizers seemed difficult to you, let me introduce you TextBlob. From its website, \"TextBlob aims to provide access to common text-processing operations through a familiar interface.\" We will see more of TextBlobl in next classes, but for now, just a small advance to show how easy is to tokenize."
     ]
    },
    {
     "cell_type": "code",
     "collapsed": false,
     "input": [
      "from textblob import TextBlob\n",
      "textblob = TextBlob(crime_and_punishment_txt)"
     ],
     "language": "python",
     "metadata": {},
     "outputs": [],
     "prompt_number": 79
    },
    {
     "cell_type": "code",
     "collapsed": false,
     "input": [
      "textblob.words[:10]"
     ],
     "language": "python",
     "metadata": {},
     "outputs": [
      {
       "metadata": {},
       "output_type": "pyout",
       "prompt_number": 81,
       "text": [
        "WordList(['\\ufeffThe', 'Project', 'Gutenberg', 'EBook', 'of', 'Crime', 'and', 'Punishment', 'by', 'Fyodor'])"
       ]
      }
     ],
     "prompt_number": 81
    },
    {
     "cell_type": "code",
     "collapsed": false,
     "input": [
      "textblob.sentences[:5]"
     ],
     "language": "python",
     "metadata": {},
     "outputs": [
      {
       "metadata": {},
       "output_type": "pyout",
       "prompt_number": 84,
       "text": [
        "[Sentence(\"\ufeffThe Project Gutenberg EBook of Crime and Punishment, by Fyodor Dostoevsky\n",
        " \n",
        " This eBook is for the use of anyone anywhere at no cost and with\n",
        " almost no restrictions whatsoever.\"),\n",
        " Sentence(\"You may copy it, give it away or\n",
        " re-use it under the terms of the Project Gutenberg License included\n",
        " with this eBook or online at www.gutenberg.org\n",
        " \n",
        " \n",
        " Title: Crime and Punishment\n",
        " \n",
        " Author: Fyodor Dostoevsky\n",
        " \n",
        " Release Date: March 28, 2006 [EBook #2554]\n",
        " [Last updated: November 15, 2011]\n",
        " \n",
        " Language: English\n",
        " \n",
        " \n",
        " *** START OF THIS PROJECT GUTENBERG EBOOK CRIME AND PUNISHMENT ***\n",
        " \n",
        " \n",
        " \n",
        " \n",
        " Produced by John Bickers; and Dagny\n",
        " \n",
        " \n",
        " \n",
        " \n",
        " \n",
        " CRIME AND PUNISHMENT\n",
        " \n",
        " By Fyodor Dostoevsky\n",
        " \n",
        " \n",
        " \n",
        " Translated By Constance Garnett\n",
        " \n",
        " \n",
        " \n",
        " \n",
        " TRANSLATOR'S PREFACE\n",
        " \n",
        " A few words about Dostoevsky himself may help the English reader to\n",
        " understand his work.\"),\n",
        " Sentence(\"Dostoevsky was the son of a doctor.\"),\n",
        " Sentence(\"His parents were very hard-working\n",
        " and deeply religious people, but so poor that they lived with their five\n",
        " children in only two rooms.\"),\n",
        " Sentence(\"The father and mother spent their evenings\n",
        " in reading aloud to their children, generally from books of a serious\n",
        " character.\")]"
       ]
      }
     ],
     "prompt_number": 84
    },
    {
     "cell_type": "heading",
     "level": 3,
     "metadata": {},
     "source": [
      "For the next class"
     ]
    },
    {
     "cell_type": "markdown",
     "metadata": {},
     "source": [
      "- Read [Chapters 2-3, from Natural Language Processing with Python](http://www.nltk.org/book3/).\n",
      "- Read [Intro to Beautiful Soup, from The Programming Historian](http://programminghistorian.org/lessons/intro-to-beautiful-soup)."
     ]
    }
   ],
   "metadata": {}
  }
 ]
}