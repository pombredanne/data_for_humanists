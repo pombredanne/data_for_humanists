{
 "metadata": {
  "celltoolbar": "Slideshow",
  "name": "",
  "signature": "sha256:1fa845a77c015a9172460518e4570fe5f69d773df9d18ad9c7b6041716624ca0"
 },
 "nbformat": 3,
 "nbformat_minor": 0,
 "worksheets": [
  {
   "cells": [
    {
     "cell_type": "markdown",
     "metadata": {
      "slideshow": {
       "slide_type": "slide"
      }
     },
     "source": [
      "<div align=\"center\">\n",
      "<h1>[Data, the Humanist's New Best Friend](index.ipynb)</h1>\n",
      "<h3>\n",
      "    Javier de la Rosa<br/>\n",
      "    *[versae@gmail.com](mailto:versae@gmail.com)*\n",
      "</h3>\n",
      "<h4>\n",
      "    Department of Modern Languages and Literatures<br/>\n",
      "    Western University<br/>\n",
      "</h4>\n",
      "</div>"
     ]
    },
    {
     "cell_type": "markdown",
     "metadata": {
      "slideshow": {
       "slide_type": "slide"
      }
     },
     "source": [
      "## Index\n",
      "\n",
      "* Data, the Humanist's New Best Friend\n",
      "* Justification\n",
      "* Course Aims\n",
      "* Learning Outcomes\n",
      "* Evaluation\n",
      "* Course Structure\n",
      "* Example Class\n",
      "* Example Activities\n",
      "* Bibliography (Students)"
     ]
    },
    {
     "cell_type": "markdown",
     "metadata": {
      "slideshow": {
       "slide_type": "slide"
      }
     },
     "source": [
      "## What is *Data, the Humanist's New Best Friend*?\n",
      "\n",
      "* Introduction to tools and meta-tools\n",
      "\n",
      "* Hands-on course\n",
      "\n",
      "* Lots of activities\n",
      "\n",
      "* Focus on the how (not in the why or the what for)"
     ]
    }
   ],
   "metadata": {}
  }
 ]
}