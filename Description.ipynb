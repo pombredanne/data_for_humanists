{
 "metadata": {
  "name": ""
 },
 "nbformat": 3,
 "nbformat_minor": 0,
 "worksheets": [
  {
   "cells": [
    {
     "cell_type": "markdown",
     "metadata": {},
     "source": [
      "<div align=\"center\">\n",
      "<h1>Data, the New Best Friend of the Humanist<br/>*Course Description*</h1>\n",
      "</div>"
     ]
    },
    {
     "cell_type": "markdown",
     "metadata": {},
     "source": [
      "**Course Supervisor**: Juan Luis Su\u00e1rez<br/>\n",
      "**E-mail**: [jsuarez@uwo.ca](mailto:jsuarez@uwo.ca)<br/>\n",
      "**Instructor**: Javier de la Rosa<br/>\n",
      "**E-mail**: [jdelaro@uwo.ca](mailto:jdelaro@uwo.ca)<br/>\n",
      "**Office**: UC 114<br/>\n",
      "**Office Hours**: Mondays 3:00pm-5:00pm<br/>\n",
      "**Meets**: Fall 2014, Mondays 12:30pm-2:30pm, Wednesdays 12:30pm-2:30pm<br/>\n",
      "**Room**: AB 148<br/>"
     ]
    }
   ],
   "metadata": {}
  }
 ]
}