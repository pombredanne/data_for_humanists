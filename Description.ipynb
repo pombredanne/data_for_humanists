{
 "metadata": {
  "name": ""
 },
 "nbformat": 3,
 "nbformat_minor": 0,
 "worksheets": [
  {
   "cells": [
    {
     "cell_type": "heading",
     "level": 1,
     "metadata": {},
     "source": [
      "Data, the New Best Friend of the Humanist"
     ]
    },
    {
     "cell_type": "heading",
     "level": 2,
     "metadata": {},
     "source": [
      "Course Description"
     ]
    },
    {
     "cell_type": "markdown",
     "metadata": {},
     "source": [
      "Blah blah"
     ]
    },
    {
     "cell_type": "heading",
     "level": 2,
     "metadata": {},
     "source": [
      "Schedule"
     ]
    },
    {
     "cell_type": "markdown",
     "metadata": {},
     "source": [
      "### Block 0: What is This Course About?\n",
      "\n",
      "* **September $4^{th}$**: [Class 01](../Class01.ipynb).\n",
      " * Presentation. Initial setup.\n",
      "\n",
      "****\n",
      "\n",
      "### Block 1: How to Think Like a Computer Scientist (Review)\n",
      "\n",
      "* **September $9^{th}$**: [Class 02](../Class02.ipynb).\n",
      "* **September $11^{th}$**: [Class 03](../Class03.ipynb).\n",
      "* **September $16^{th}$**: [Class 04](../Class04.ipynb).\n",
      "\n",
      "****\n",
      "\n",
      "### Block 2: Data Mining\n",
      "\n",
      "* **September $18^{th}$**: [Class 05](../Class05.ipynb).\n",
      "* **September $23^{th}$**: [Class 06](../Class06.ipynb).\n",
      "* **September $25^{th}$**: Class 07.\n",
      "* **September $30^{th}$**: Class 08.\n",
      "* **October $2^{nd}$**: Class 09.\n",
      "* **October $7^{th}$**: Class 10.\n",
      "* **October $9^{th}$**: Class 11. Work on [Assignment 1](../Assignment1.ipynb).\n",
      "\n",
      "****\n",
      "\n",
      "### Block 3: Text Analysis\n",
      "\n",
      "* **October $14^{th}$**: [Class 12](../Class12.ipynb).\n",
      "* **October $16^{th}$**: [Class 13](../Class13.ipynb).\n",
      "* **October $21^{st}$**: Class 15.\n",
      "* **October $23^{rd}$**: Class 16.\n",
      "* **October $28^{th}$**: Class 17.\n",
      "* **October $30^{th}$**: *No class. Fall Study Break.*\n",
      "* **November $4^{th}$**: Class 17.\n",
      "* **November $6^{th}$**: Class 18. Work on Assignment 2.\n",
      "\n",
      "****\n",
      "\n",
      "### Block 4: Network Science\n",
      "\n",
      "* **November $11^{th}$**: [Class 19](../Class19.ipynb).\n",
      "* **November $13^{th}$**: [Class 20](../Class20.ipynb).\n",
      "* **November $18^{th}$**: Class 21.\n",
      "* **November $20^{th}$**: Class 22.\n",
      "* **November $25^{th}$**: Class 23.\n",
      "* **November $27^{th}$**: Class 24. \n",
      "* **December $2^{nd}$**: Class 25. Work on Assignment 3.\n",
      "\n",
      "### Classes End\n",
      "\n",
      "* **December $3^{rd}$**: All asignments must be handed in by this date.\n"
     ]
    },
    {
     "cell_type": "markdown",
     "metadata": {},
     "source": [
      "<iframe src=\"https://www.google.com/calendar/embed?showTabs=0&amp;showCalendars=0&amp;height=600&amp;wkst=1&amp;bgcolor=%23FFFFFF&amp;src=o1u15v6vjq2slk9mkf5bs0qesg%40group.calendar.google.com&amp;color=%23182C57&amp;ctz=America%2FToronto\" style=\" border-width:0 \" width=\"800\" height=\"600\" frameborder=\"0\" scrolling=\"no\"></iframe>"
     ]
    },
    {
     "cell_type": "code",
     "collapsed": false,
     "input": [],
     "language": "python",
     "metadata": {},
     "outputs": []
    }
   ],
   "metadata": {}
  }
 ]
}