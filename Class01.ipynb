{
 "metadata": {
  "name": ""
 },
 "nbformat": 3,
 "nbformat_minor": 0,
 "worksheets": [
  {
   "cells": [
    {
     "cell_type": "heading",
     "level": 1,
     "metadata": {
      "slideshow": {
       "slide_type": "-"
      }
     },
     "source": [
      "Data, the New Best Friend of the Humanist"
     ]
    },
    {
     "cell_type": "markdown",
     "metadata": {},
     "source": [
      "<div align=\"center\">\n",
      "<img src=\"files/images/data.jpg\" width=\"350\">\n",
      "</div>"
     ]
    },
    {
     "cell_type": "markdown",
     "metadata": {},
     "source": [
      "Welcome to **Data, the New Best Friend of the Humanist**. Yaay!"
     ]
    },
    {
     "cell_type": "markdown",
     "metadata": {},
     "source": [
      "Very briefly, in this course you will learn several things that are getting momentum now among the so called digital humanists. To be sincere, these are skills that not only a digital humanist can benefit from.\n",
      "\n",
      "1. **Data Mining**. Not to be afraid by the name! If you have already heard of other buzzwords such as *big data*, *data science*, and their derivatives mentioned in the media, chances that you already have a clue about data mining are high. Data mining is about *explaining the past* and *predicting the future* by means of data analysis. To do so, it combines combines statistics, machine learning, artificial intelligence and database technology. Unfortunately we won't have time enough to cover all those topics.\n",
      "2. **Text Analysis**. Whenever you need to identify the most relevant actor in a play, analyze a corpus to extract the main entities, or process natural language to atribute authorship of an anonymous book, you will make use of text analysis techniques. Text analysis can be seen as the means to produce valuable information (i.e., data to be analyzed) from text sources.\n",
      "3. **Networks Science**. Facebook, twitter, tumblr, instagram, etc. are all examples of social networks. But networks can be built by interconnecting any kind of entity, not only people. That's how Social Network Analysis (SNA) is based on the more general Graph Theory. Network Science tries to understand complex structures by analyzing the relationships among their entities.\n",
      "\n",
      "For a more detailed description, please, visit the [description](../Description.ipynb) of the course."
     ]
    },
    {
     "cell_type": "heading",
     "level": 2,
     "metadata": {},
     "source": [
      "Setting things up!"
     ]
    },
    {
     "cell_type": "markdown",
     "metadata": {},
     "source": [
      "Our only and almighty tool in this course will be the [Python programming language](http://python.org).\n",
      "\n",
      "So Python is the first thing you need to have installed in your computer. It is available for almost every platform, and it comes with a **standard library**. The Python standard library is a set of tools that provides very common and basisc tasks. However, some of the tools that we will use in this course are not included in the standard library. \n",
      "\n",
      "To solve this issue, and in order to guarantee that everyone has the same setup, we will use the [Anaconda distribution](http://continuum.io/downloads), that already packages all the libraries that we will cover in the course. If you feel confident enough with Python and your system, you can always install the libraries on your own. The libraries are listed in the [requirements.txt](files/requirements.txt) file."
     ]
    },
    {
     "cell_type": "heading",
     "level": 3,
     "metadata": {},
     "source": [
      "Anaconda"
     ]
    },
    {
     "cell_type": "markdown",
     "metadata": {},
     "source": [
      "As you have just seen, Anaconda is an application that install Pytohn along with other useful libraries. Depending on what computer are you using, Linux, Mac or Windows, there are different instructions on how to get Anaconda running.\n",
      "\n",
      "First you need to download the right version for your system (32 or 64 bits) from the [official site](http://continuum.io/downloads). Then just follow the instruction for your system.\n",
      "Linux / Mac OSX (non-gui)\n",
      "After downloading the installer, in the shell execute\n",
      "$ bash <downloaded file>\n",
      "Mac OSX\n",
      "After downloading the installer double click the .pkg file and follow the instructions on the screen.\n",
      "Windows\n",
      "After downloading the installer double click the .exe file and follow the instructions on the screen."
     ]
    },
    {
     "cell_type": "heading",
     "level": 4,
     "metadata": {},
     "source": [
      "Linux"
     ]
    },
    {
     "cell_type": "markdown",
     "metadata": {},
     "source": [
      "After downloading the installer, in the shell execute (note that `$` is the symbol we use for the prompt of the shell)\n",
      "```bash\n",
      "$ bash <downloaded file>\n",
      "```"
     ]
    },
    {
     "cell_type": "heading",
     "level": 4,
     "metadata": {},
     "source": [
      "Mac OSX"
     ]
    },
    {
     "cell_type": "markdown",
     "metadata": {},
     "source": [
      "The shell of Mac OSX is pretty similar to the one shipped with Linux system. However, some users just prefer to use a graphical interface when installing software. If that is your case, by simply double-clicking on the Anaconda file downloaded before, an installer will be launched.\n",
      "\n",
      "If you see a message that says `You cannot install Anaconda in this location`, follow [this instructions]( docs.continuum.io/anaconda/install.html#mac-install)."
     ]
    },
    {
     "cell_type": "heading",
     "level": 4,
     "metadata": {},
     "source": [
      "Windows"
     ]
    },
    {
     "cell_type": "markdown",
     "metadata": {},
     "source": [
      "Double clicking on the installer should be enough. In case of not having permissions to install applications, use the [zipper version of the installers](http://repo.continuum.io/archive/.winzip/)."
     ]
    },
    {
     "cell_type": "heading",
     "level": 3,
     "metadata": {},
     "source": [
      "The Shell"
     ]
    },
    {
     "cell_type": "markdown",
     "metadata": {},
     "source": [
      "The shell, also referred to as terminal or console, is the command line interface (CLI) to your computer. It is the component that makes possible for people to interact with the operating system of their machine. And to run Python code we need to use the shell. [*Learning Code the Hard Way*](http://cli.learncodethehardway.org/book/ex1.html) has a good guide to launch the shell that I summarize here."
     ]
    },
    {
     "cell_type": "heading",
     "level": 4,
     "metadata": {},
     "source": [
      "Mac OSX"
     ]
    },
    {
     "cell_type": "markdown",
     "metadata": {},
     "source": [
      "For Mac OSX you'll need to do this:\n",
      "\n",
      "1. Hold down Cmd. (\u2318) and hit the spacebar.\n",
      "2. In the top right the blue \"search bar\" will pop up.\n",
      "3. Type: terminal\n",
      "4. Click on the `Terminal` application that looks kind of like a black box. This will open `Terminal`.\n",
      "5. You can now go to your Dock and press Ctrl.-click to pull up the menu, then select `Options` $\\rightarrow$ `Keep In Dock`.\n",
      "\n",
      "Now you have your `Terminal` open and it's in your Dock so you can get to it."
     ]
    },
    {
     "cell_type": "heading",
     "level": 4,
     "metadata": {},
     "source": [
      "Linux"
     ]
    },
    {
     "cell_type": "markdown",
     "metadata": {},
     "source": [
      "If you are using Linux I'm assuming that if you already know how to get at your terminal. Look through the menu for your window manager for anything named `Shell` or `Terminal`."
     ]
    },
    {
     "cell_type": "heading",
     "level": 4,
     "metadata": {},
     "source": [
      "Windows"
     ]
    },
    {
     "cell_type": "markdown",
     "metadata": {},
     "source": [
      "On Windows we're going to use [`PowerShell`](http://cli.learncodethehardway.org/book/fromthedownloadcenter). People used to work with a program called `cmd.exe`, but it's not nearly as usable as `PowerShell`. If you have Windows 7 or later, do this:\n",
      "\n",
      "1. Click `Start`.\n",
      "2. In `Search programs and files` type: powershell\n",
      "3. Hit Enter."
     ]
    },
    {
     "cell_type": "markdown",
     "metadata": {},
     "source": [
      "Now that you know how to launch your shell, you shoulnd't miss the opportunity of learning the basic tricks by following [`The Command Line Crash Course`](http://cli.learncodethehardway.org/book/). At least, you need to be familiar with the tree structure of your disk and how to navigate folders."
     ]
    },
    {
     "cell_type": "heading",
     "level": 2,
     "metadata": {},
     "source": [
      "Running Python"
     ]
    },
    {
     "cell_type": "markdown",
     "metadata": {},
     "source": [
      "We are almost there!\n",
      "\n",
      "Python is an interpreted language, that means that doesn't need complicated things like [compiling](https://en.wikipedia.org/wiki/Compiling) or [linking](https://en.wikipedia.org/wiki/Linker_(computing)) in order to run. All you need is to create a text plain file with the extension `.py`. For example, `code.py` and `my_program.py` are valid file names for Python programs; whereas `my code.txt` or `program` are not.\n",
      "\n",
      "In order to run your code you need to tell the interpreter where is the file you want to run by either passing the whole path, or by navigating to the location and then launching the interpreter\n",
      "```bash\n",
      "$ python my_code.py\n",
      "\n",
      "$ python /home/users/me/course/homeworks/ass1.py\n",
      "```"
     ]
    },
    {
     "cell_type": "heading",
     "level": 3,
     "metadata": {},
     "source": [
      "IPython Notebook"
     ]
    },
    {
     "cell_type": "markdown",
     "metadata": {},
     "source": [
      "IPython is a library for Python that allows interactive and exploratory coding with Python. IPython uses the idea of REP loops, this is, the user type something and then IPython Reads it, Evaluates it, and Prints it.\n",
      "\n",
      "Another cool feature of IPython is the Notebook. This whole course itself is written using IPython Notebook, and throgh the classes, it will became your most beloved tool as well :-)\n",
      "\n",
      "To launch it, just open a shell and type\n",
      "```bash\n",
      "$ ipython notebook\n",
      "```"
     ]
    },
    {
     "cell_type": "heading",
     "level": 3,
     "metadata": {},
     "source": [
      "Wakari"
     ]
    },
    {
     "cell_type": "markdown",
     "metadata": {},
     "source": [
      "Getting and installing the environment is the right thing to do. But if for whatever reason you end up desperate and unable to get the things done, there is an online alternative called [Wakari](https://www.wakari.io/). Wakari is a service that provides cloud hosted IPython Notebooks. It has a free account that you can use, although is pretty limited and the computing power available for the free account is way less than using your own computer, I pressume."
     ]
    },
    {
     "cell_type": "heading",
     "level": 2,
     "metadata": {},
     "source": [
      "Hello World!"
     ]
    },
    {
     "cell_type": "markdown",
     "metadata": {},
     "source": [
      "After some sweat, you have the whole environment set and ready. Now, if your browser (Chrome and Firefox are browsers, by the way) haven't open up a new window, just open a new tab, type `localhost:8888` and hit enter.\n",
      "\n",
      "That will open the IPython Notebook files list. In this screen you can either create a `New Notebook` or drag one of the notebooks of the course.\n",
      "\n",
      "The first thing you'll see is something like"
     ]
    },
    {
     "cell_type": "code",
     "collapsed": false,
     "input": [],
     "language": "python",
     "metadata": {},
     "outputs": []
    },
    {
     "cell_type": "markdown",
     "metadata": {},
     "source": [
      "That's the IPython Notebook prompt. Now type `print(\"Hello World!\")`, hit Ctrl.+Enter, and see what it happens!"
     ]
    },
    {
     "cell_type": "code",
     "collapsed": false,
     "input": [
      "print(\"Hello World!\")"
     ],
     "language": "python",
     "metadata": {},
     "outputs": [
      {
       "output_type": "stream",
       "stream": "stdout",
       "text": [
        "Hello World!\n"
       ]
      }
     ],
     "prompt_number": 1
    },
    {
     "cell_type": "markdown",
     "metadata": {},
     "source": [
      "And that, dear students, is your very first Python program."
     ]
    },
    {
     "cell_type": "markdown",
     "metadata": {},
     "source": [
      "<div align=\"center\">\n",
      "<img src=\"files/images/wee.gif\" width=\"350\">\n",
      "</div>"
     ]
    }
   ],
   "metadata": {}
  }
 ]
}