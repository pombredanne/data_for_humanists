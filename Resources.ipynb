{
 "metadata": {
  "name": "",
  "signature": "sha256:84042a79956cba702bdceac3d2cc2c43cb3da5aeb437cf0a3a90be7dd1d83584"
 },
 "nbformat": 3,
 "nbformat_minor": 0,
 "worksheets": [
  {
   "cells": [
    {
     "cell_type": "markdown",
     "metadata": {},
     "source": [
      "<div align=\"center\">\n",
      "<h1>[Data, the Humanist's New Best Friend](Index.ipynb)<br/>*Resources*</h1>\n",
      "</div>"
     ]
    },
    {
     "cell_type": "markdown",
     "metadata": {},
     "source": [
      "## Courses\n",
      "\n",
      "Advanced Statistics and Data Mining Summer School\n",
      "http://www.dia.fi.upm.es/?q=es/ASDM\n",
      "\n",
      "Applied Machine Learning\n",
      "http://machinelearningmastery.com/small-projects/\n",
      "\n",
      "Data Science\n",
      "http://cs109.org/\n",
      "\n",
      "Machine Learning\n",
      "http://online.stanford.edu/course/machine-learning-0\n",
      "\n",
      "Networks\n",
      "http://ocw.mit.edu/courses/economics/14-15j-networks-fall-2009/index.htm\n",
      "\n",
      "Social and Economic Networks: Model and Analysis\n",
      "http://online.stanford.edu/course/social-and-economic-networks-winter2014\n",
      "\n",
      "Statistical Learning\n",
      "http://online.stanford.edu/course/statistical-learning-winter-2014\n",
      "\n",
      "\n",
      "## Notebooks\n",
      "\n",
      "Introduction to Python\n",
      "http://www.introtopython.org/var_string_num.html\n",
      "\n",
      "Interesting IPython Notebooks\n",
      "https://github.com/ipython/ipython/wiki/A-gallery-of-interesting-IPython-Notebooks\n",
      "\n",
      "Mining the Social Web\n",
      "https://github.com/ptwobrussell/Mining-the-Social-Web-2nd-Edition\n",
      "\n",
      "Learn Data Science\n",
      "http://learnds.com/\n",
      "\n",
      "\n",
      "## Links\n",
      "\n",
      "A Programmer's Guide to Data Mining\n",
      "http://guidetodatamining.com/\n",
      "\n",
      "An Introduction to Statistical Learning\n",
      "http://www-bcf.usc.edu/~gareth/ISL/\n",
      "\n",
      "Data Mining\n",
      "http://saedsayad.com/data_mining_map.htm\n",
      "\n",
      "Data Science Masters Curriculum\n",
      "http://datasciencemasters.org/\n",
      "\n",
      "Learn Python The Hard Way\n",
      "http://learnpythonthehardway.org/book/ex1.html\n",
      "\n",
      "Python for Statistical Learning\n",
      "http://www.datarobot.com/blog/introduction-to-python-for-statistical-learning/\n",
      "\n",
      "Python for science\n",
      "http://scipy-lectures.github.io/intro/language/python_language.html\n",
      "\n",
      "Tooling Up for Digital Humanities\n",
      "http://toolingup.stanford.edu\n",
      "\n",
      "Statistics for Humanities\n",
      "http://statisticsforhumanities.net/"
     ]
    }
   ],
   "metadata": {}
  }
 ]
}