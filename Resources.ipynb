{
 "metadata": {
  "name": ""
 },
 "nbformat": 3,
 "nbformat_minor": 0,
 "worksheets": [
  {
   "cells": [
    {
     "cell_type": "heading",
     "level": 1,
     "metadata": {},
     "source": [
      "Data, the New Best Friend of the Humanist"
     ]
    },
    {
     "cell_type": "markdown",
     "metadata": {},
     "source": [
      "MACHINE LEARNING\n",
      "http://online.stanford.edu/course/machine-learning-0\n",
      "\n",
      "SOCIAL AND ECONOMIC NETWORKS: MODELS AND ANALYSIS\n",
      "http://online.stanford.edu/course/social-and-economic-networks-winter2014\n",
      "\n",
      "STATISTICAL LEARNING\n",
      "http://online.stanford.edu/course/statistical-learning-winter-2014\n",
      "\n",
      "Networks\n",
      "http://ocw.mit.edu/courses/economics/14-15j-networks-fall-2009/index.htm\n",
      "\n",
      "Applied Machine Learning\n",
      "http://machinelearningmastery.com/small-projects/\n",
      "\n",
      "Data Mining\n",
      "http://saedsayad.com/data_mining_map.htm\n",
      "\n",
      "Data Science Masters Curriculum\n",
      "http://datasciencemasters.org/\n",
      "\n",
      "Learn Python The Hard Way\n",
      "http://learnpythonthehardway.org/book/ex1.html\n",
      "\n",
      "Python for Statistical Learning\n",
      "http://www.datarobot.com/blog/introduction-to-python-for-statistical-learning/\n",
      "\n",
      "Python for science\n",
      "http://scipy-lectures.github.io/intro/language/python_language.html\n",
      "\n",
      "Advanced Statistics and Data Mining Summer School\n",
      "http://www.dia.fi.upm.es/?q=es/ASDM\n",
      "\n",
      "Mining the Social Web\n",
      "https://github.com/ptwobrussell/Mining-the-Social-Web-2nd-Edition\n",
      "\n",
      "Data Science\n",
      "http://cs109.org/\n",
      "\n",
      "Introduction to Python\n",
      "http://www.introtopython.org/var_string_num.html\n",
      "\n",
      "Interesting IPython Notebooks\n",
      "https://github.com/ipython/ipython/wiki/A-gallery-of-interesting-IPython-Notebooks\n",
      "\n",
      "Learn Data Science\n",
      "http://learnds.com/\n",
      "\n",
      "Python Scripting for Computational Science\n",
      "http://perso.ens-lyon.fr/christophe.winisdoerffer/Python_Scripting_for_Computational_Science__3rd_Edition.pdf\n",
      "\n",
      "\n",
      "* Joyner, David, Minh Van Nguyen, and David Phillips. *[Algorithmic Graph Theory and Sage](https://graphbook.googlecode.com/files/latest-r1991.pdf)*. Version 0.8-r1991 (2013): 304.\n",
      "  * Covers much more than needed for this course, but it gives good explanations for the basics of Graph Theory.\n",
      "  \n",
      "* McKinney, Wes. *[Python for Data Analysis: Data Wrangling with Pandas, NumPy, and IPython](http://www.cin.ufpe.br/~embat/Python%20for%20Data%20Analysis.pdf)*. O'Reilly Media, 2012.\n",
      "  * Covers \n"
     ]
    },
    {
     "cell_type": "code",
     "collapsed": false,
     "input": [],
     "language": "python",
     "metadata": {},
     "outputs": []
    }
   ],
   "metadata": {}
  }
 ]
}