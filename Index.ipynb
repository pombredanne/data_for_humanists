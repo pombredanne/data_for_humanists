{
 "metadata": {
  "name": "",
  "signature": "sha256:439b5eaf4b41cf26fced6417843c1838a38771a98fa99f705f7777f725821169"
 },
 "nbformat": 3,
 "nbformat_minor": 0,
 "worksheets": [
  {
   "cells": [
    {
     "cell_type": "markdown",
     "metadata": {},
     "source": [
      "<div align=\"center\">\n",
      "<h1>Data, the Humanist's New Best Friend<br/>*Table of Contents*</h1>\n",
      "</div>"
     ]
    },
    {
     "cell_type": "markdown",
     "metadata": {},
     "source": [
      "<div>\n",
      "<h4>\n",
      "Javier de la Rosa<br/>\n",
      "[jdelaro@uwo.ca](mailto:jdelaro@uwo.ca)<br/>\n",
      "<br/>\n",
      "Western University<br/>\n",
      "Department of Modern Languages and Literatures<br/>\n",
      "Digital Humanities \u2013 DH XXXX<br/>\n",
      "</h4>\n",
      "</div>\n",
      "\n",
      "Welcome to the course *Data, the Humanist's New Best Friend*.\n",
      "\n",
      "- [Syllabus](Syllabus.ipynb)\n",
      " - [Course Description](Syllabus.ipynb#Description)\n",
      " - [Pre-requisites](Syllabus.ipynb#Pre-requisites)\n",
      " - [Course Aims](Syllabus.ipynb#Course-Aims)\n",
      " - [Learning Outcomes](Syllabus.ipynb#Learning-Outcomes)\n",
      " - [Course Materials](Syllabus.ipynb#Course-Materials)\n",
      " - [Texts](Syllabus.ipynb#Texts)\n",
      " - [Topics](Syllabus.ipynb#Topics)\n",
      " - [Evaluation](Syllabus.ipynb#Evaluation)\n",
      " - [Plagiarism](Syllabus.ipynb#Plagiarism)\n",
      " - [Absenteeism](Syllabus.ipynb#Absenteeism)\n",
      "- [Description](Description.ipynb)\n",
      " - [About](Description.ipynb#About)\n",
      " - [Justification](Description.ipynb#Justification)\n",
      " - [Philosophy of Teaching](Description.ipynb#Philosophy-of-Teaching)\n",
      " - [Methodology](Description.ipynb#Methodology)\n",
      " - [Evaluation](Description.ipynb#Evaluation)\n",
      " - [Course Plan](Description.ipynb#Course-Plan)\n",
      "   - [Block 0: What is This Course About?](Description.ipynb#Block-0:-What-is-This-Course-About?)\n",
      "   - [Block 1: How to Think Like a Computer Scientist (Review)](Description.ipynb#Block-1:-How-to-Think-Like-a-Computer-Scientist-(Review))\n",
      "   - [Block 2: Data Mining](Description.ipynb#Block-2:-Data-Mining)\n",
      "   - [Block 3: Text Analysis](Description.ipynb#Block-3:-Text-Analysis)\n",
      "   - [Block 4: Network Science](Description.ipynb#Block-4:-Network-Science)\n",
      "- [Calendar](Calendar.ipynb)\n",
      "- [Bibliography](Bibliography.ipynb)\n",
      " - [Student](Bibliography.ipynb#Student)\n",
      " - [Professor](Bibliography.ipynb#Professor)\n",
      "- [Resources](Resources.ipynb)"
     ]
    }
   ],
   "metadata": {}
  }
 ]
}